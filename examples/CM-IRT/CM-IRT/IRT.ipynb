{
 "cells": [
  {
   "cell_type": "code",
   "execution_count": 4,
   "metadata": {},
   "outputs": [
    {
     "name": "stderr",
     "output_type": "stream",
     "text": [
      "Epoch 0: 100%|██████████| 1454/1454 [00:12<00:00, 115.25it/s]\n"
     ]
    },
    {
     "name": "stdout",
     "output_type": "stream",
     "text": [
      "[Epoch 0] LogisticLoss: 1.187448\n"
     ]
    },
    {
     "name": "stderr",
     "output_type": "stream",
     "text": [
      "evaluating: 100%|██████████| 101/101 [00:00<00:00, 257.19it/s]\n"
     ]
    },
    {
     "name": "stdout",
     "output_type": "stream",
     "text": [
      "[Epoch 0] rmse: 0.504811, mae: 0.410266, auc: 0.536118, accuracy: 0.635476\n"
     ]
    },
    {
     "name": "stderr",
     "output_type": "stream",
     "text": [
      "Epoch 1: 100%|██████████| 1454/1454 [00:12<00:00, 117.39it/s]\n"
     ]
    },
    {
     "name": "stdout",
     "output_type": "stream",
     "text": [
      "[Epoch 1] LogisticLoss: 1.108175\n"
     ]
    },
    {
     "name": "stderr",
     "output_type": "stream",
     "text": [
      "evaluating: 100%|██████████| 101/101 [00:00<00:00, 264.44it/s]\n"
     ]
    },
    {
     "name": "stdout",
     "output_type": "stream",
     "text": [
      "[Epoch 1] rmse: 0.494511, mae: 0.404069, auc: 0.564055, accuracy: 0.646919\n"
     ]
    },
    {
     "name": "stderr",
     "output_type": "stream",
     "text": [
      "Epoch 2: 100%|██████████| 1454/1454 [00:12<00:00, 118.77it/s]\n"
     ]
    },
    {
     "name": "stdout",
     "output_type": "stream",
     "text": [
      "[Epoch 2] LogisticLoss: 1.046474\n"
     ]
    },
    {
     "name": "stderr",
     "output_type": "stream",
     "text": [
      "evaluating: 100%|██████████| 101/101 [00:00<00:00, 214.81it/s]\n"
     ]
    },
    {
     "name": "stdout",
     "output_type": "stream",
     "text": [
      "[Epoch 2] rmse: 0.485729, mae: 0.398311, auc: 0.590334, accuracy: 0.657229\n"
     ]
    },
    {
     "name": "stderr",
     "output_type": "stream",
     "text": [
      "Epoch 3: 100%|██████████| 1454/1454 [00:12<00:00, 117.39it/s]\n"
     ]
    },
    {
     "name": "stdout",
     "output_type": "stream",
     "text": [
      "[Epoch 3] LogisticLoss: 0.996776\n"
     ]
    },
    {
     "name": "stderr",
     "output_type": "stream",
     "text": [
      "evaluating: 100%|██████████| 101/101 [00:00<00:00, 243.02it/s]\n"
     ]
    },
    {
     "name": "stdout",
     "output_type": "stream",
     "text": [
      "[Epoch 3] rmse: 0.478413, mae: 0.393132, auc: 0.613749, accuracy: 0.664766\n"
     ]
    },
    {
     "name": "stderr",
     "output_type": "stream",
     "text": [
      "Epoch 4: 100%|██████████| 1454/1454 [00:11<00:00, 122.14it/s]\n"
     ]
    },
    {
     "name": "stdout",
     "output_type": "stream",
     "text": [
      "[Epoch 4] LogisticLoss: 0.957587\n"
     ]
    },
    {
     "name": "stderr",
     "output_type": "stream",
     "text": [
      "evaluating: 100%|██████████| 101/101 [00:00<00:00, 291.54it/s]\n"
     ]
    },
    {
     "name": "stdout",
     "output_type": "stream",
     "text": [
      "[Epoch 4] rmse: 0.472436, mae: 0.388580, auc: 0.633701, accuracy: 0.669257\n"
     ]
    },
    {
     "name": "stderr",
     "output_type": "stream",
     "text": [
      "Epoch 5: 100%|██████████| 1454/1454 [00:10<00:00, 140.41it/s]\n"
     ]
    },
    {
     "name": "stdout",
     "output_type": "stream",
     "text": [
      "[Epoch 5] LogisticLoss: 0.926050\n"
     ]
    },
    {
     "name": "stderr",
     "output_type": "stream",
     "text": [
      "evaluating: 100%|██████████| 101/101 [00:00<00:00, 294.42it/s]\n"
     ]
    },
    {
     "name": "stdout",
     "output_type": "stream",
     "text": [
      "[Epoch 5] rmse: 0.467609, mae: 0.384618, auc: 0.650030, accuracy: 0.674842\n"
     ]
    },
    {
     "name": "stderr",
     "output_type": "stream",
     "text": [
      "Epoch 6: 100%|██████████| 1454/1454 [00:10<00:00, 140.90it/s]\n"
     ]
    },
    {
     "name": "stdout",
     "output_type": "stream",
     "text": [
      "[Epoch 6] LogisticLoss: 0.900025\n"
     ]
    },
    {
     "name": "stderr",
     "output_type": "stream",
     "text": [
      "evaluating: 100%|██████████| 101/101 [00:00<00:00, 287.47it/s]\n"
     ]
    },
    {
     "name": "stdout",
     "output_type": "stream",
     "text": [
      "[Epoch 6] rmse: 0.463742, mae: 0.381158, auc: 0.663060, accuracy: 0.678083\n"
     ]
    },
    {
     "name": "stderr",
     "output_type": "stream",
     "text": [
      "Epoch 7: 100%|██████████| 1454/1454 [00:10<00:00, 141.54it/s]\n"
     ]
    },
    {
     "name": "stdout",
     "output_type": "stream",
     "text": [
      "[Epoch 7] LogisticLoss: 0.879282\n"
     ]
    },
    {
     "name": "stderr",
     "output_type": "stream",
     "text": [
      "evaluating: 100%|██████████| 101/101 [00:00<00:00, 299.50it/s]\n"
     ]
    },
    {
     "name": "stdout",
     "output_type": "stream",
     "text": [
      "[Epoch 7] rmse: 0.460646, mae: 0.378126, auc: 0.673387, accuracy: 0.680973\n"
     ]
    },
    {
     "name": "stderr",
     "output_type": "stream",
     "text": [
      "Epoch 8: 100%|██████████| 1454/1454 [00:10<00:00, 140.92it/s]\n"
     ]
    },
    {
     "name": "stdout",
     "output_type": "stream",
     "text": [
      "[Epoch 8] LogisticLoss: 0.861688\n"
     ]
    },
    {
     "name": "stderr",
     "output_type": "stream",
     "text": [
      "evaluating: 100%|██████████| 101/101 [00:00<00:00, 282.57it/s]\n"
     ]
    },
    {
     "name": "stdout",
     "output_type": "stream",
     "text": [
      "[Epoch 8] rmse: 0.458158, mae: 0.375443, auc: 0.681631, accuracy: 0.684683\n"
     ]
    },
    {
     "name": "stderr",
     "output_type": "stream",
     "text": [
      "Epoch 9: 100%|██████████| 1454/1454 [00:10<00:00, 142.19it/s]\n"
     ]
    },
    {
     "name": "stdout",
     "output_type": "stream",
     "text": [
      "[Epoch 9] LogisticLoss: 0.846917\n"
     ]
    },
    {
     "name": "stderr",
     "output_type": "stream",
     "text": [
      "evaluating: 100%|██████████| 101/101 [00:00<00:00, 294.45it/s]\n"
     ]
    },
    {
     "name": "stdout",
     "output_type": "stream",
     "text": [
      "[Epoch 9] rmse: 0.456144, mae: 0.373059, auc: 0.688248, accuracy: 0.686206\n"
     ]
    },
    {
     "name": "stderr",
     "output_type": "stream",
     "text": [
      "Epoch 10: 100%|██████████| 1454/1454 [00:10<00:00, 141.20it/s]\n"
     ]
    },
    {
     "name": "stdout",
     "output_type": "stream",
     "text": [
      "[Epoch 10] LogisticLoss: 0.834576\n"
     ]
    },
    {
     "name": "stderr",
     "output_type": "stream",
     "text": [
      "evaluating: 100%|██████████| 101/101 [00:00<00:00, 291.89it/s]\n"
     ]
    },
    {
     "name": "stdout",
     "output_type": "stream",
     "text": [
      "[Epoch 10] rmse: 0.454509, mae: 0.370932, auc: 0.693579, accuracy: 0.687183\n"
     ]
    },
    {
     "name": "stderr",
     "output_type": "stream",
     "text": [
      "Epoch 11: 100%|██████████| 1454/1454 [00:10<00:00, 141.77it/s]\n"
     ]
    },
    {
     "name": "stdout",
     "output_type": "stream",
     "text": [
      "[Epoch 11] LogisticLoss: 0.823549\n"
     ]
    },
    {
     "name": "stderr",
     "output_type": "stream",
     "text": [
      "evaluating: 100%|██████████| 101/101 [00:00<00:00, 232.56it/s]\n"
     ]
    },
    {
     "name": "stdout",
     "output_type": "stream",
     "text": [
      "[Epoch 11] rmse: 0.453180, mae: 0.369030, auc: 0.697949, accuracy: 0.689018\n"
     ]
    },
    {
     "name": "stderr",
     "output_type": "stream",
     "text": [
      "Epoch 12: 100%|██████████| 1454/1454 [00:10<00:00, 141.85it/s]\n"
     ]
    },
    {
     "name": "stdout",
     "output_type": "stream",
     "text": [
      "[Epoch 12] LogisticLoss: 0.814369\n"
     ]
    },
    {
     "name": "stderr",
     "output_type": "stream",
     "text": [
      "evaluating: 100%|██████████| 101/101 [00:00<00:00, 279.16it/s]\n"
     ]
    },
    {
     "name": "stdout",
     "output_type": "stream",
     "text": [
      "[Epoch 12] rmse: 0.452097, mae: 0.367325, auc: 0.701540, accuracy: 0.691713\n"
     ]
    },
    {
     "name": "stderr",
     "output_type": "stream",
     "text": [
      "Epoch 13: 100%|██████████| 1454/1454 [00:10<00:00, 137.27it/s]\n"
     ]
    },
    {
     "name": "stdout",
     "output_type": "stream",
     "text": [
      "[Epoch 13] LogisticLoss: 0.806521\n"
     ]
    },
    {
     "name": "stderr",
     "output_type": "stream",
     "text": [
      "evaluating: 100%|██████████| 101/101 [00:00<00:00, 272.77it/s]\n"
     ]
    },
    {
     "name": "stdout",
     "output_type": "stream",
     "text": [
      "[Epoch 13] rmse: 0.451215, mae: 0.365796, auc: 0.704505, accuracy: 0.693002\n"
     ]
    },
    {
     "name": "stderr",
     "output_type": "stream",
     "text": [
      "Epoch 14: 100%|██████████| 1454/1454 [00:10<00:00, 135.31it/s]\n"
     ]
    },
    {
     "name": "stdout",
     "output_type": "stream",
     "text": [
      "[Epoch 14] LogisticLoss: 0.799132\n"
     ]
    },
    {
     "name": "stderr",
     "output_type": "stream",
     "text": [
      "evaluating: 100%|██████████| 101/101 [00:00<00:00, 272.65it/s]\n"
     ]
    },
    {
     "name": "stdout",
     "output_type": "stream",
     "text": [
      "[Epoch 14] rmse: 0.450496, mae: 0.364422, auc: 0.706982, accuracy: 0.694837\n"
     ]
    },
    {
     "name": "stderr",
     "output_type": "stream",
     "text": [
      "Epoch 15: 100%|██████████| 1454/1454 [00:10<00:00, 134.69it/s]\n"
     ]
    },
    {
     "name": "stdout",
     "output_type": "stream",
     "text": [
      "[Epoch 15] LogisticLoss: 0.792706\n"
     ]
    },
    {
     "name": "stderr",
     "output_type": "stream",
     "text": [
      "evaluating: 100%|██████████| 101/101 [00:00<00:00, 272.27it/s]\n"
     ]
    },
    {
     "name": "stdout",
     "output_type": "stream",
     "text": [
      "[Epoch 15] rmse: 0.449911, mae: 0.363186, auc: 0.709048, accuracy: 0.696438\n"
     ]
    },
    {
     "name": "stderr",
     "output_type": "stream",
     "text": [
      "Epoch 16: 100%|██████████| 1454/1454 [00:10<00:00, 132.52it/s]\n"
     ]
    },
    {
     "name": "stdout",
     "output_type": "stream",
     "text": [
      "[Epoch 16] LogisticLoss: 0.786893\n"
     ]
    },
    {
     "name": "stderr",
     "output_type": "stream",
     "text": [
      "evaluating: 100%|██████████| 101/101 [00:00<00:00, 285.70it/s]\n"
     ]
    },
    {
     "name": "stdout",
     "output_type": "stream",
     "text": [
      "[Epoch 16] rmse: 0.449434, mae: 0.362073, auc: 0.710785, accuracy: 0.697258\n"
     ]
    },
    {
     "name": "stderr",
     "output_type": "stream",
     "text": [
      "Epoch 17: 100%|██████████| 1454/1454 [00:10<00:00, 133.41it/s]\n"
     ]
    },
    {
     "name": "stdout",
     "output_type": "stream",
     "text": [
      "[Epoch 17] LogisticLoss: 0.781393\n"
     ]
    },
    {
     "name": "stderr",
     "output_type": "stream",
     "text": [
      "evaluating: 100%|██████████| 101/101 [00:00<00:00, 281.60it/s]\n",
      "INFO:root:save parameters to irt.params\n",
      "INFO:root:load parameters from irt.params\n"
     ]
    },
    {
     "name": "stdout",
     "output_type": "stream",
     "text": [
      "[Epoch 17] rmse: 0.449054, mae: 0.361075, auc: 0.712234, accuracy: 0.697376\n"
     ]
    },
    {
     "name": "stderr",
     "output_type": "stream",
     "text": [
      "evaluating: 100%|██████████| 218/218 [00:00<00:00, 290.28it/s]"
     ]
    },
    {
     "name": "stdout",
     "output_type": "stream",
     "text": [
      "rmse: 0.450114, mae: 0.362632, auc: 0.713181, accuracy: 0.694871\n"
     ]
    },
    {
     "name": "stderr",
     "output_type": "stream",
     "text": [
      "\n"
     ]
    }
   ],
   "source": [
    "# coding: utf-8\n",
    "# 2021/3/23 @ tongshiwei\n",
    "import logging\n",
    "from EduCDM import CIRT\n",
    "import torch\n",
    "from torch.utils.data import TensorDataset, DataLoader\n",
    "import pandas as pd\n",
    "import random\n",
    "import numpy as np\n",
    "\n",
    "train_data = pd.read_csv(\"../../../data/a0910/train.csv\")\n",
    "valid_data = pd.read_csv(\"../../../data/a0910/valid.csv\")\n",
    "test_data = pd.read_csv(\"../../../data/a0910/test.csv\")\n",
    "\n",
    "batch_size = 256\n",
    "sample_size = 3\n",
    "\n",
    "\n",
    "def transform(x, y, z, batch_size, **params):\n",
    "    dataset = TensorDataset(\n",
    "        torch.tensor(x, dtype=torch.int64),\n",
    "        torch.tensor(y, dtype=torch.int64),\n",
    "        torch.tensor(z, dtype=torch.float32)\n",
    "    )\n",
    "    return DataLoader(dataset, batch_size=batch_size, **params)\n",
    "\n",
    "\n",
    "def transform_train_data(x, y, z, f, p, batch_size, **params):\n",
    "    dataset = TensorDataset(\n",
    "        torch.tensor(x, dtype=torch.int64),\n",
    "        torch.tensor(y, dtype=torch.int64),\n",
    "        torch.tensor(z, dtype=torch.float32),\n",
    "        torch.tensor(f, dtype=torch.int64),\n",
    "        torch.tensor(p, dtype=torch.float32)\n",
    "    )\n",
    "    return DataLoader(dataset, batch_size=batch_size, **params)\n",
    "\n",
    "\n",
    "def fake_train_data(train_data, valid_data, test_data, s):\n",
    "    all_data = pd.concat([train_data, valid_data, test_data], axis=0)\n",
    "    existing_all_users = all_data['user_id'].unique()\n",
    "    existing_train_users = train_data['user_id'].unique()\n",
    "    new_train_data = []\n",
    "    for train_user in existing_train_users:\n",
    "        user_data = train_data[train_data['user_id'] == train_user]\n",
    "\n",
    "        num_rows = len(user_data)\n",
    "        if num_rows < s:\n",
    "            random_rows = list(range(num_rows))\n",
    "            s = num_rows\n",
    "        else:\n",
    "            random_rows = random.sample(range(num_rows), s)\n",
    "\n",
    "        fake_user_ids = []\n",
    "        for _ in range(s):\n",
    "            fake_user_id = max(existing_all_users) + 1\n",
    "            while fake_user_id in existing_all_users:\n",
    "                fake_user_id += 1\n",
    "            existing_all_users = np.append(existing_all_users, fake_user_id)\n",
    "            fake_user_ids.append(fake_user_id)\n",
    "\n",
    "        pos = [(user_data.iloc[i]['score'] - 0.5) * 2 for i in random_rows]\n",
    "        row_count = 0\n",
    "        for index, row in user_data.iterrows():\n",
    "            user_id = row['user_id']\n",
    "            item_id = row['item_id']\n",
    "            score = row['score']\n",
    "\n",
    "            data_point = {\n",
    "                'user_id': user_id,\n",
    "                'item_id': item_id,\n",
    "                'score': score,\n",
    "                'user_id_pair': fake_user_ids,\n",
    "                'pos': pos,\n",
    "                'fake': 0\n",
    "            }\n",
    "            new_train_data.append(data_point)\n",
    "\n",
    "            for i in range(s):   \n",
    "                if row_count == random_rows[i]:\n",
    "                    fake_score = 1 - score\n",
    "                    fake_data_point = {\n",
    "                        'user_id': fake_user_id[i],\n",
    "                        'item_id': item_id,\n",
    "                        'score': fake_score,\n",
    "                        'user_id_pair': [user_id],\n",
    "                        'pos': [- pos[i]],\n",
    "                        'fake': 1\n",
    "                    }\n",
    "                    new_train_data.append(fake_data_point)\n",
    "                else:\n",
    "                    fake_data_point = {\n",
    "                        'user_id': fake_user_id[i],\n",
    "                        'item_id': item_id,\n",
    "                        'score': score,\n",
    "                        'user_id_pair': [user_id],\n",
    "                        'pos': [- pos[i]],\n",
    "                        'fake': 1\n",
    "                    }\n",
    "                    new_train_data.append(fake_data_point)\n",
    "            row_count += 1\n",
    "\n",
    "    new_train_data_df = pd.DataFrame(new_train_data)\n",
    "    shuffled_data = new_train_data_df.sample(frac=1).reset_index(drop=True)\n",
    "    return shuffled_data, max(existing_all_users)\n",
    "\n",
    "\n",
    "valid, test = [\n",
    "    transform(data[\"user_id\"], data[\"item_id\"], data[\"score\"], batch_size)\n",
    "    for data in [valid_data, test_data]\n",
    "]\n",
    "\n",
    "train_data, user_num = fake_train_data(train_data, valid_data, test_data, sample_size)\n",
    "train = transform_train_data(train_data[\"user_id\"], train_data[\"item_id\"], train_data[\"score\"], train_data[\"user_id_pair\"], train_data[\"pos\"], batch_size)\n",
    "# print(train_data[\"pos\"])\n",
    "# print(max(train_data['user_id'].unique()))\n",
    "\n",
    "logging.getLogger().setLevel(logging.INFO)\n",
    "\n",
    "# print(user_num)\n",
    "cdm = CIRT(user_num + 1, 17747)\n",
    "\n",
    "cdm.train(train, valid, epoch=18)\n",
    "cdm.save(\"irt.params\")\n",
    "\n",
    "cdm.load(\"irt.params\")\n",
    "rmse, mae, auc, accuracy = cdm.eval(test)\n",
    "print(\"rmse: %.6f, mae: %.6f, auc: %.6f, accuracy: %.6f\" % (rmse, mae, auc, accuracy))\n"
   ]
  },
  {
   "cell_type": "code",
   "execution_count": 2,
   "metadata": {},
   "outputs": [
    {
     "name": "stderr",
     "output_type": "stream",
     "text": [
      "/data/zhengz/anaconda3/envs/pytorch/lib/python3.10/site-packages/tqdm/auto.py:22: TqdmWarning: IProgress not found. Please update jupyter and ipywidgets. See https://ipywidgets.readthedocs.io/en/stable/user_install.html\n",
      "  from .autonotebook import tqdm as notebook_tqdm\n"
     ]
    }
   ],
   "source": [
    "import sys\n",
    "sys.path.append('../../../')\n",
    "\n",
    "import logging\n",
    "from EduCDM import CIRT\n",
    "import torch\n",
    "from torch.utils.data import TensorDataset, DataLoader\n",
    "import pandas as pd\n",
    "import random\n",
    "import numpy as np\n",
    "\n",
    "\n",
    "cdm = CIRT(6622, 17747)\n",
    "cdm.load(\"irt.params\")"
   ]
  },
  {
   "cell_type": "code",
   "execution_count": 4,
   "metadata": {},
   "outputs": [],
   "source": [
    "# Load the data from files\n",
    "import pandas as pd\n",
    "import numpy as np\n",
    "from sklearn.model_selection import train_test_split\n",
    "\n",
    "train_data = pd.read_csv(\"../../../data/a0910/train.csv\")\n",
    "valid_data = pd.read_csv(\"../../../data/a0910/valid.csv\")\n",
    "test_data = pd.read_csv(\"../../../data/a0910/test.csv\")\n",
    "data = pd.concat([train_data, valid_data, test_data], axis=0)\n",
    "# print(\"User:\", len(data['UserId'].unique()))\n",
    "# print(\"Question:\", len(data['QuestionId'].unique()))\n",
    "\n",
    "# user_max = max(data['UserId'].unique())\n",
    "# question_max = max(data['QuestionId'].unique())\n",
    "# print(user_max)\n",
    "# print(question_max)\n",
    "batch_size = 256\n",
    "def transform(x, y, z, batch_size, **params):\n",
    "    x = x.to_numpy()\n",
    "    y = y.to_numpy()\n",
    "    z = z.to_numpy()\n",
    "    dataset = TensorDataset(\n",
    "        torch.tensor(x, dtype=torch.int64),\n",
    "        torch.tensor(y, dtype=torch.int64),\n",
    "        torch.tensor(z, dtype=torch.float32)\n",
    "    )\n",
    "    return DataLoader(dataset, batch_size=batch_size, **params)"
   ]
  },
  {
   "cell_type": "code",
   "execution_count": 3,
   "metadata": {},
   "outputs": [
    {
     "data": {
      "image/png": "[encoded data removed]",
      "text/plain": [
       "<Figure size 1000x600 with 1 Axes>"
      ]
     },
     "metadata": {},
     "output_type": "display_data"
    }
   ],
   "source": [
    "import matplotlib.pyplot as plt\n",
    "import pandas as pd\n",
    "\n",
    "# user_records_count = data['user_id'].value_counts().sort_values(ascending=False)\n",
    "# user_records_count.head(15)\n",
    "# user_records_count.to_csv('../../../data/a0910/user_records_count.csv', index=True)\n",
    "\n",
    "user_records_count = pd.read_csv(\"../../../data/a0910/user_records_count.csv\")\n",
    "user_count = user_records_count[\"count\"].value_counts().sort_index()\n",
    "# user_count.to_csv(\"../../../data/a0910/user_count.csv\")\n",
    "\n",
    "plt.figure(figsize=(10, 6))\n",
    "plt.bar(user_count.index, user_count.values)\n",
    "plt.xlabel('record')\n",
    "plt.ylabel('student')\n",
    "plt.title('a')\n",
    "plt.show()"
   ]
  },
  {
   "cell_type": "code",
   "execution_count": 5,
   "metadata": {},
   "outputs": [
    {
     "data": {
      "text/plain": [
       "(<torch.utils.data.dataloader.DataLoader at 0x7f335dc3a260>,\n",
       " <torch.utils.data.dataloader.DataLoader at 0x7f335dc39ea0>)"
      ]
     },
     "execution_count": 5,
     "metadata": {},
     "output_type": "execute_result"
    }
   ],
   "source": [
    "test_data = pd.read_csv('../../../data/a0910/test.csv')\n",
    "user_records_count = pd.read_csv('../../../data/a0910/user_records_count.csv')\n",
    "test_data = test_data.merge(user_records_count, on='user_id', how='inner')\n",
    "\n",
    "test1_data = test_data[test_data['count'] < 200]\n",
    "test2_data = test_data[test_data['count'] >= 200]\n",
    "\n",
    "test1, test2 = [\n",
    "    transform(data[\"user_id\"], data[\"item_id\"], data[\"score\"], batch_size)\n",
    "    for data in [test1_data, test2_data]\n",
    "]\n",
    "test1, test2"
   ]
  },
  {
   "cell_type": "code",
   "execution_count": 6,
   "metadata": {},
   "outputs": [
    {
     "name": "stderr",
     "output_type": "stream",
     "text": [
      "evaluating: 100%|██████████| 104/104 [00:00<00:00, 432.07it/s]"
     ]
    },
    {
     "name": "stdout",
     "output_type": "stream",
     "text": [
      "rmse: 0.465881, mae: 0.384276, auc: 0.705418, accuracy: 0.671155\n"
     ]
    },
    {
     "name": "stderr",
     "output_type": "stream",
     "text": [
      "\n"
     ]
    }
   ],
   "source": [
    "cdm.load(\"irt.params\")\n",
    "rmse, mae, auc, accuracy = cdm.eval(test1)\n",
    "print(\"rmse: %.6f, mae: %.6f, auc: %.6f, accuracy: %.6f\" % (rmse, mae, auc, accuracy))"
   ]
  },
  {
   "cell_type": "code",
   "execution_count": 7,
   "metadata": {},
   "outputs": [
    {
     "name": "stderr",
     "output_type": "stream",
     "text": [
      "evaluating: 100%|██████████| 115/115 [00:00<00:00, 484.64it/s]"
     ]
    },
    {
     "name": "stdout",
     "output_type": "stream",
     "text": [
      "rmse: 0.435326, mae: 0.343010, auc: 0.716776, accuracy: 0.716371\n"
     ]
    },
    {
     "name": "stderr",
     "output_type": "stream",
     "text": [
      "\n"
     ]
    }
   ],
   "source": [
    "cdm.load(\"irt.params\")\n",
    "rmse, mae, auc, accuracy = cdm.eval(test2)\n",
    "print(\"rmse: %.6f, mae: %.6f, auc: %.6f, accuracy: %.6f\" % (rmse, mae, auc, accuracy))"
   ]
  },
  {
   "cell_type": "code",
   "execution_count": 2,
   "metadata": {},
   "outputs": [],
   "source": [
    "# coding: utf-8\n",
    "# 2021/3/23 @ tongshiwei\n",
    "import logging\n",
    "from EduCDM import CIRT\n",
    "import torch\n",
    "from torch.utils.data import TensorDataset, DataLoader\n",
    "import pandas as pd\n",
    "import random\n",
    "import numpy as np\n",
    "\n",
    "train_data = pd.read_csv(\"../../../data/a0910/train.csv\")\n",
    "valid_data = pd.read_csv(\"../../../data/a0910/valid.csv\")\n",
    "test_data = pd.read_csv(\"../../../data/a0910/test.csv\")\n",
    "\n",
    "batch_size = 256\n",
    "\n",
    "\n",
    "def transform(x, y, z, batch_size, **params):\n",
    "    dataset = TensorDataset(\n",
    "        torch.tensor(x, dtype=torch.int64),\n",
    "        torch.tensor(y, dtype=torch.int64),\n",
    "        torch.tensor(z, dtype=torch.float32)\n",
    "    )\n",
    "    return DataLoader(dataset, batch_size=batch_size, **params)\n",
    "\n",
    "\n",
    "def transform_train_data(x, y, z, f, p, batch_size, **params):\n",
    "    dataset = TensorDataset(\n",
    "        torch.tensor(x, dtype=torch.int64),\n",
    "        torch.tensor(y, dtype=torch.int64),\n",
    "        torch.tensor(z, dtype=torch.float32),\n",
    "        torch.tensor(f, dtype=torch.int64),\n",
    "        torch.tensor(p, dtype=torch.float32)\n",
    "    )\n",
    "    return DataLoader(dataset, batch_size=batch_size, **params)\n",
    "\n",
    "\n",
    "def fake_train_data(train_data, valid_data, test_data):\n",
    "    all_data = pd.concat([train_data, valid_data, test_data], axis=0)\n",
    "    existing_all_users = all_data['user_id'].unique()\n",
    "    existing_train_users = train_data['user_id'].unique()\n",
    "    # print(max(existing_all_users))\n",
    "    new_train_data = []\n",
    "    for train_user in existing_train_users:\n",
    "        user_data = train_data[train_data['user_id'] == train_user]\n",
    "        fake_user_id = max(existing_all_users) + 1\n",
    "        while fake_user_id in existing_all_users:\n",
    "            fake_user_id = fake_user_id + 1\n",
    "        existing_all_users = np.append(existing_all_users, fake_user_id)\n",
    "\n",
    "        num_rows = len(user_data)\n",
    "        random_row = random.randint(0, num_rows - 1)\n",
    "        pos = (user_data.iloc[random_row]['score'] - 0.5) * 2\n",
    "        # print(pos)\n",
    "        row_count = 0\n",
    "        for index, row in user_data.iterrows():\n",
    "            user_id = row['user_id']\n",
    "            item_id = row['item_id']\n",
    "            score = row['score']\n",
    "            data_point = {\n",
    "                'user_id': user_id,\n",
    "                'item_id': item_id,\n",
    "                'score': score,\n",
    "                'user_id_pair': fake_user_id,  # 记录原始 user_id\n",
    "                'pos': pos,  # 记录是否伪造为反话\n",
    "                'fake': 1\n",
    "            }\n",
    "            new_train_data.append(data_point)\n",
    "\n",
    "            if row_count == random_row:\n",
    "                fake_score = 1 - score\n",
    "            else:\n",
    "                fake_score = score\n",
    "            row_count += 1\n",
    "            fake_data_point = {\n",
    "                'user_id': fake_user_id,\n",
    "                'item_id': item_id,\n",
    "                'score': fake_score,\n",
    "                'user_id_pair': user_id,\n",
    "                'pos': (0 - pos),\n",
    "                'fake': 1\n",
    "            }\n",
    "            new_train_data.append(fake_data_point)\n",
    "\n",
    "    new_train_data_df = pd.DataFrame(new_train_data)\n",
    "    shuffled_data = new_train_data_df.sample(frac=1).reset_index(drop=True)\n",
    "    return shuffled_data, max(existing_all_users)\n",
    "\n",
    "\n",
    "valid, test = [\n",
    "    transform(data[\"user_id\"], data[\"item_id\"], data[\"score\"], batch_size)\n",
    "    for data in [valid_data, test_data]\n",
    "]\n",
    "\n",
    "train_data, user_num = fake_train_data(train_data, valid_data, test_data)\n",
    "\n",
    "train_data.to_csv(\"../../../data/a0910/fake_train.csv\", index=False)"
   ]
  },
  {
   "cell_type": "code",
   "execution_count": 4,
   "metadata": {},
   "outputs": [],
   "source": [
    "# coding: utf-8\n",
    "# 2021/3/23 @ tongshiwei\n",
    "import logging\n",
    "import torch\n",
    "from torch.utils.data import TensorDataset, DataLoader\n",
    "import pandas as pd\n",
    "import random\n",
    "import numpy as np\n",
    "\n",
    "train_data = pd.read_csv('../../../data/a0910/fake_train.csv')\n",
    "user_records_count = pd.read_csv('../../../data/a0910/user_records_count.csv')\n",
    "\n",
    "# 将 user_records_count 转换成字典\n",
    "user_records_dict = dict(zip(user_records_count['user_id'], user_records_count['count']))\n",
    "\n",
    "# 定义函数来根据条件设置 group 列的值\n",
    "def set_group(row):\n",
    "    if row['user_id'] in user_records_dict:\n",
    "        if user_records_dict[row['user_id']] >= 200:\n",
    "            return 1\n",
    "        else:\n",
    "            return 0\n",
    "    elif row['user_id_pair'] in user_records_dict:\n",
    "        if user_records_dict[row['user_id_pair']] >= 200:\n",
    "            return 1\n",
    "        else:\n",
    "            return 0\n",
    "    else:\n",
    "        return None  # 可以根据实际情况设置默认值\n",
    "\n",
    "# 应用函数来设置 group 列的值\n",
    "train_data['group'] = train_data.apply(set_group, axis=1)\n",
    "\n",
    "\n",
    "def set_fake(row):\n",
    "    if row['user_id'] in user_records_dict:\n",
    "        return 0\n",
    "    elif row['user_id_pair'] in user_records_dict:\n",
    "        return 1\n",
    "    else:\n",
    "        return None  # 可以根据实际情况设置默认值\n",
    "\n",
    "train_data['fake'] = train_data.apply(set_fake, axis=1)\n",
    "\n",
    "# train_data.to_csv('../../data/public_data/train_data/fake_train.csv', index=False)\n"
   ]
  },
  {
   "cell_type": "code",
   "execution_count": 5,
   "metadata": {},
   "outputs": [],
   "source": [
    "def transform_train_data(x, y, z, f, p, fake, g, batch_size, **params):\n",
    "    dataset = TensorDataset(\n",
    "        torch.tensor(x, dtype=torch.int64),\n",
    "        torch.tensor(y, dtype=torch.int64),\n",
    "        torch.tensor(z, dtype=torch.float32),\n",
    "        torch.tensor(f, dtype=torch.int64),\n",
    "        torch.tensor(p, dtype=torch.float32),\n",
    "        torch.tensor(fake, dtype=torch.int64),\n",
    "        torch.tensor(g, dtype=torch.int64)\n",
    "    )\n",
    "    return DataLoader(dataset, batch_size=batch_size, **params)\n",
    "\n",
    "batch_size = 256\n",
    "train = transform_train_data(train_data[\"user_id\"], train_data[\"item_id\"], train_data[\"score\"], train_data[\"user_id_pair\"], train_data[\"pos\"], train_data[\"fake\"], train_data[\"group\"], batch_size)\n",
    "# print(train_data[\"pos\"])\n",
    "# print(max(train_data['user_id'].unique()))"
   ]
  },
  {
   "cell_type": "code",
   "execution_count": 6,
   "metadata": {},
   "outputs": [
    {
     "name": "stderr",
     "output_type": "stream",
     "text": [
      "Epoch 0:   0%|          | 0/1454 [00:00<?, ?it/s]"
     ]
    },
    {
     "name": "stderr",
     "output_type": "stream",
     "text": [
      "Epoch 0: 100%|██████████| 1454/1454 [00:17<00:00, 81.48it/s] \n"
     ]
    },
    {
     "name": "stdout",
     "output_type": "stream",
     "text": [
      "[Epoch 0] LogisticLoss: 0.979303\n"
     ]
    },
    {
     "name": "stderr",
     "output_type": "stream",
     "text": [
      "evaluating: 100%|██████████| 101/101 [00:00<00:00, 270.92it/s]\n"
     ]
    },
    {
     "name": "stdout",
     "output_type": "stream",
     "text": [
      "[Epoch 0] rmse: 0.504724, mae: 0.417061, auc: 0.527956, accuracy: 0.632625\n"
     ]
    },
    {
     "name": "stderr",
     "output_type": "stream",
     "text": [
      "Epoch 1: 100%|██████████| 1454/1454 [00:15<00:00, 93.32it/s]\n"
     ]
    },
    {
     "name": "stdout",
     "output_type": "stream",
     "text": [
      "[Epoch 1] LogisticLoss: 0.917447\n"
     ]
    },
    {
     "name": "stderr",
     "output_type": "stream",
     "text": [
      "evaluating: 100%|██████████| 101/101 [00:00<00:00, 259.69it/s]\n"
     ]
    },
    {
     "name": "stdout",
     "output_type": "stream",
     "text": [
      "[Epoch 1] rmse: 0.495504, mae: 0.413074, auc: 0.551269, accuracy: 0.642154\n"
     ]
    },
    {
     "name": "stderr",
     "output_type": "stream",
     "text": [
      "Epoch 2: 100%|██████████| 1454/1454 [00:15<00:00, 94.70it/s]\n"
     ]
    },
    {
     "name": "stdout",
     "output_type": "stream",
     "text": [
      "[Epoch 2] LogisticLoss: 0.867268\n"
     ]
    },
    {
     "name": "stderr",
     "output_type": "stream",
     "text": [
      "evaluating: 100%|██████████| 101/101 [00:00<00:00, 262.68it/s]\n"
     ]
    },
    {
     "name": "stdout",
     "output_type": "stream",
     "text": [
      "[Epoch 2] rmse: 0.487168, mae: 0.408918, auc: 0.574705, accuracy: 0.648559\n"
     ]
    },
    {
     "name": "stderr",
     "output_type": "stream",
     "text": [
      "Epoch 3: 100%|██████████| 1454/1454 [00:15<00:00, 91.92it/s]\n"
     ]
    },
    {
     "name": "stdout",
     "output_type": "stream",
     "text": [
      "[Epoch 3] LogisticLoss: 0.826290\n"
     ]
    },
    {
     "name": "stderr",
     "output_type": "stream",
     "text": [
      "evaluating: 100%|██████████| 101/101 [00:00<00:00, 273.66it/s]\n"
     ]
    },
    {
     "name": "stdout",
     "output_type": "stream",
     "text": [
      "[Epoch 3] rmse: 0.479797, mae: 0.404718, auc: 0.597230, accuracy: 0.655237\n"
     ]
    },
    {
     "name": "stderr",
     "output_type": "stream",
     "text": [
      "Epoch 4: 100%|██████████| 1454/1454 [00:15<00:00, 92.29it/s]\n"
     ]
    },
    {
     "name": "stdout",
     "output_type": "stream",
     "text": [
      "[Epoch 4] LogisticLoss: 0.792796\n"
     ]
    },
    {
     "name": "stderr",
     "output_type": "stream",
     "text": [
      "evaluating: 100%|██████████| 101/101 [00:00<00:00, 268.17it/s]\n"
     ]
    },
    {
     "name": "stdout",
     "output_type": "stream",
     "text": [
      "[Epoch 4] rmse: 0.473416, mae: 0.400583, auc: 0.617963, accuracy: 0.663555\n"
     ]
    },
    {
     "name": "stderr",
     "output_type": "stream",
     "text": [
      "Epoch 5: 100%|██████████| 1454/1454 [00:15<00:00, 92.77it/s]\n"
     ]
    },
    {
     "name": "stdout",
     "output_type": "stream",
     "text": [
      "[Epoch 5] LogisticLoss: 0.764670\n"
     ]
    },
    {
     "name": "stderr",
     "output_type": "stream",
     "text": [
      "evaluating: 100%|██████████| 101/101 [00:00<00:00, 246.68it/s]\n"
     ]
    },
    {
     "name": "stdout",
     "output_type": "stream",
     "text": [
      "[Epoch 5] rmse: 0.467996, mae: 0.396605, auc: 0.636228, accuracy: 0.669101\n"
     ]
    },
    {
     "name": "stderr",
     "output_type": "stream",
     "text": [
      "Epoch 6: 100%|██████████| 1454/1454 [00:15<00:00, 92.72it/s]\n"
     ]
    },
    {
     "name": "stdout",
     "output_type": "stream",
     "text": [
      "[Epoch 6] LogisticLoss: 0.741079\n"
     ]
    },
    {
     "name": "stderr",
     "output_type": "stream",
     "text": [
      "evaluating: 100%|██████████| 101/101 [00:00<00:00, 233.37it/s]\n"
     ]
    },
    {
     "name": "stdout",
     "output_type": "stream",
     "text": [
      "[Epoch 6] rmse: 0.463455, mae: 0.392844, auc: 0.651809, accuracy: 0.675310\n"
     ]
    },
    {
     "name": "stderr",
     "output_type": "stream",
     "text": [
      "Epoch 7: 100%|██████████| 1454/1454 [00:15<00:00, 92.43it/s]\n"
     ]
    },
    {
     "name": "stdout",
     "output_type": "stream",
     "text": [
      "[Epoch 7] LogisticLoss: 0.721182\n"
     ]
    },
    {
     "name": "stderr",
     "output_type": "stream",
     "text": [
      "evaluating: 100%|██████████| 101/101 [00:00<00:00, 225.24it/s]\n"
     ]
    },
    {
     "name": "stdout",
     "output_type": "stream",
     "text": [
      "[Epoch 7] rmse: 0.459676, mae: 0.389321, auc: 0.664915, accuracy: 0.680622\n"
     ]
    },
    {
     "name": "stderr",
     "output_type": "stream",
     "text": [
      "Epoch 8: 100%|██████████| 1454/1454 [00:15<00:00, 92.76it/s]\n"
     ]
    },
    {
     "name": "stdout",
     "output_type": "stream",
     "text": [
      "[Epoch 8] LogisticLoss: 0.704576\n"
     ]
    },
    {
     "name": "stderr",
     "output_type": "stream",
     "text": [
      "evaluating: 100%|██████████| 101/101 [00:00<00:00, 216.61it/s]\n"
     ]
    },
    {
     "name": "stdout",
     "output_type": "stream",
     "text": [
      "[Epoch 8] rmse: 0.456531, mae: 0.386034, auc: 0.675845, accuracy: 0.685152\n"
     ]
    },
    {
     "name": "stderr",
     "output_type": "stream",
     "text": [
      "Epoch 9: 100%|██████████| 1454/1454 [00:15<00:00, 94.26it/s]\n"
     ]
    },
    {
     "name": "stdout",
     "output_type": "stream",
     "text": [
      "[Epoch 9] LogisticLoss: 0.690676\n"
     ]
    },
    {
     "name": "stderr",
     "output_type": "stream",
     "text": [
      "evaluating: 100%|██████████| 101/101 [00:00<00:00, 271.04it/s]\n"
     ]
    },
    {
     "name": "stdout",
     "output_type": "stream",
     "text": [
      "[Epoch 9] rmse: 0.453909, mae: 0.382970, auc: 0.684943, accuracy: 0.688315\n"
     ]
    },
    {
     "name": "stderr",
     "output_type": "stream",
     "text": [
      "Epoch 10: 100%|██████████| 1454/1454 [00:15<00:00, 94.69it/s]\n"
     ]
    },
    {
     "name": "stdout",
     "output_type": "stream",
     "text": [
      "[Epoch 10] LogisticLoss: 0.678153\n"
     ]
    },
    {
     "name": "stderr",
     "output_type": "stream",
     "text": [
      "evaluating: 100%|██████████| 101/101 [00:00<00:00, 261.32it/s]\n"
     ]
    },
    {
     "name": "stdout",
     "output_type": "stream",
     "text": [
      "[Epoch 10] rmse: 0.451721, mae: 0.380115, auc: 0.692495, accuracy: 0.691244\n"
     ]
    },
    {
     "name": "stderr",
     "output_type": "stream",
     "text": [
      "Epoch 11: 100%|██████████| 1454/1454 [00:15<00:00, 94.82it/s]\n"
     ]
    },
    {
     "name": "stdout",
     "output_type": "stream",
     "text": [
      "[Epoch 11] LogisticLoss: 0.667547\n"
     ]
    },
    {
     "name": "stderr",
     "output_type": "stream",
     "text": [
      "evaluating: 100%|██████████| 101/101 [00:00<00:00, 267.79it/s]\n"
     ]
    },
    {
     "name": "stdout",
     "output_type": "stream",
     "text": [
      "[Epoch 11] rmse: 0.449893, mae: 0.377456, auc: 0.698764, accuracy: 0.692377\n"
     ]
    },
    {
     "name": "stderr",
     "output_type": "stream",
     "text": [
      "Epoch 12: 100%|██████████| 1454/1454 [00:15<00:00, 93.95it/s] \n"
     ]
    },
    {
     "name": "stdout",
     "output_type": "stream",
     "text": [
      "[Epoch 12] LogisticLoss: 0.657974\n"
     ]
    },
    {
     "name": "stderr",
     "output_type": "stream",
     "text": [
      "evaluating: 100%|██████████| 101/101 [00:00<00:00, 265.56it/s]\n"
     ]
    },
    {
     "name": "stdout",
     "output_type": "stream",
     "text": [
      "[Epoch 12] rmse: 0.448364, mae: 0.374980, auc: 0.703964, accuracy: 0.693900\n"
     ]
    },
    {
     "name": "stderr",
     "output_type": "stream",
     "text": [
      "Epoch 13: 100%|██████████| 1454/1454 [00:15<00:00, 93.72it/s]\n"
     ]
    },
    {
     "name": "stdout",
     "output_type": "stream",
     "text": [
      "[Epoch 13] LogisticLoss: 0.649801\n"
     ]
    },
    {
     "name": "stderr",
     "output_type": "stream",
     "text": [
      "evaluating: 100%|██████████| 101/101 [00:00<00:00, 257.50it/s]\n"
     ]
    },
    {
     "name": "stdout",
     "output_type": "stream",
     "text": [
      "[Epoch 13] rmse: 0.447089, mae: 0.372675, auc: 0.708345, accuracy: 0.696165\n"
     ]
    },
    {
     "name": "stderr",
     "output_type": "stream",
     "text": [
      "Epoch 14: 100%|██████████| 1454/1454 [00:16<00:00, 89.86it/s]\n"
     ]
    },
    {
     "name": "stdout",
     "output_type": "stream",
     "text": [
      "[Epoch 14] LogisticLoss: 0.642532\n"
     ]
    },
    {
     "name": "stderr",
     "output_type": "stream",
     "text": [
      "evaluating: 100%|██████████| 101/101 [00:00<00:00, 257.44it/s]\n"
     ]
    },
    {
     "name": "stdout",
     "output_type": "stream",
     "text": [
      "[Epoch 14] rmse: 0.446028, mae: 0.370531, auc: 0.712048, accuracy: 0.697180\n"
     ]
    },
    {
     "name": "stderr",
     "output_type": "stream",
     "text": [
      "Epoch 15: 100%|██████████| 1454/1454 [00:16<00:00, 87.43it/s]\n"
     ]
    },
    {
     "name": "stdout",
     "output_type": "stream",
     "text": [
      "[Epoch 15] LogisticLoss: 0.635727\n"
     ]
    },
    {
     "name": "stderr",
     "output_type": "stream",
     "text": [
      "evaluating: 100%|██████████| 101/101 [00:00<00:00, 211.81it/s]\n"
     ]
    },
    {
     "name": "stdout",
     "output_type": "stream",
     "text": [
      "[Epoch 15] rmse: 0.445145, mae: 0.368537, auc: 0.715192, accuracy: 0.698742\n"
     ]
    },
    {
     "name": "stderr",
     "output_type": "stream",
     "text": [
      "Epoch 16: 100%|██████████| 1454/1454 [00:16<00:00, 87.78it/s]\n"
     ]
    },
    {
     "name": "stdout",
     "output_type": "stream",
     "text": [
      "[Epoch 16] LogisticLoss: 0.629885\n"
     ]
    },
    {
     "name": "stderr",
     "output_type": "stream",
     "text": [
      "evaluating: 100%|██████████| 101/101 [00:00<00:00, 262.65it/s]\n"
     ]
    },
    {
     "name": "stdout",
     "output_type": "stream",
     "text": [
      "[Epoch 16] rmse: 0.444408, mae: 0.366680, auc: 0.717894, accuracy: 0.700227\n"
     ]
    },
    {
     "name": "stderr",
     "output_type": "stream",
     "text": [
      "Epoch 17: 100%|██████████| 1454/1454 [00:16<00:00, 87.45it/s]\n"
     ]
    },
    {
     "name": "stdout",
     "output_type": "stream",
     "text": [
      "[Epoch 17] LogisticLoss: 0.624573\n"
     ]
    },
    {
     "name": "stderr",
     "output_type": "stream",
     "text": [
      "evaluating: 100%|██████████| 101/101 [00:00<00:00, 261.57it/s]\n"
     ]
    },
    {
     "name": "stdout",
     "output_type": "stream",
     "text": [
      "[Epoch 17] rmse: 0.443791, mae: 0.364948, auc: 0.720258, accuracy: 0.701945\n"
     ]
    },
    {
     "name": "stderr",
     "output_type": "stream",
     "text": [
      "Epoch 18: 100%|██████████| 1454/1454 [00:16<00:00, 87.04it/s]\n"
     ]
    },
    {
     "name": "stdout",
     "output_type": "stream",
     "text": [
      "[Epoch 18] LogisticLoss: 0.620322\n"
     ]
    },
    {
     "name": "stderr",
     "output_type": "stream",
     "text": [
      "evaluating: 100%|██████████| 101/101 [00:00<00:00, 212.27it/s]\n"
     ]
    },
    {
     "name": "stdout",
     "output_type": "stream",
     "text": [
      "[Epoch 18] rmse: 0.443273, mae: 0.363331, auc: 0.722345, accuracy: 0.703585\n"
     ]
    },
    {
     "name": "stderr",
     "output_type": "stream",
     "text": [
      "Epoch 19: 100%|██████████| 1454/1454 [00:16<00:00, 87.21it/s]\n"
     ]
    },
    {
     "name": "stdout",
     "output_type": "stream",
     "text": [
      "[Epoch 19] LogisticLoss: 0.615321\n"
     ]
    },
    {
     "name": "stderr",
     "output_type": "stream",
     "text": [
      "evaluating: 100%|██████████| 101/101 [00:00<00:00, 188.46it/s]\n"
     ]
    },
    {
     "name": "stdout",
     "output_type": "stream",
     "text": [
      "[Epoch 19] rmse: 0.442838, mae: 0.361818, auc: 0.724195, accuracy: 0.704405\n"
     ]
    },
    {
     "name": "stderr",
     "output_type": "stream",
     "text": [
      "Epoch 20: 100%|██████████| 1454/1454 [00:16<00:00, 87.51it/s]\n"
     ]
    },
    {
     "name": "stdout",
     "output_type": "stream",
     "text": [
      "[Epoch 20] LogisticLoss: 0.611284\n"
     ]
    },
    {
     "name": "stderr",
     "output_type": "stream",
     "text": [
      "evaluating: 100%|██████████| 101/101 [00:00<00:00, 211.95it/s]\n"
     ]
    },
    {
     "name": "stdout",
     "output_type": "stream",
     "text": [
      "[Epoch 20] rmse: 0.442473, mae: 0.360400, auc: 0.725834, accuracy: 0.705850\n"
     ]
    },
    {
     "name": "stderr",
     "output_type": "stream",
     "text": [
      "Epoch 21: 100%|██████████| 1454/1454 [00:16<00:00, 88.39it/s]\n"
     ]
    },
    {
     "name": "stdout",
     "output_type": "stream",
     "text": [
      "[Epoch 21] LogisticLoss: 0.607647\n"
     ]
    },
    {
     "name": "stderr",
     "output_type": "stream",
     "text": [
      "evaluating: 100%|██████████| 101/101 [00:00<00:00, 205.25it/s]\n"
     ]
    },
    {
     "name": "stdout",
     "output_type": "stream",
     "text": [
      "[Epoch 21] rmse: 0.442174, mae: 0.359069, auc: 0.727310, accuracy: 0.706944\n"
     ]
    },
    {
     "name": "stderr",
     "output_type": "stream",
     "text": [
      "Epoch 22: 100%|██████████| 1454/1454 [00:16<00:00, 87.43it/s]\n"
     ]
    },
    {
     "name": "stdout",
     "output_type": "stream",
     "text": [
      "[Epoch 22] LogisticLoss: 0.604253\n"
     ]
    },
    {
     "name": "stderr",
     "output_type": "stream",
     "text": [
      "evaluating: 100%|██████████| 101/101 [00:00<00:00, 242.59it/s]\n"
     ]
    },
    {
     "name": "stdout",
     "output_type": "stream",
     "text": [
      "[Epoch 22] rmse: 0.441933, mae: 0.357817, auc: 0.728601, accuracy: 0.706944\n"
     ]
    },
    {
     "name": "stderr",
     "output_type": "stream",
     "text": [
      "Epoch 23: 100%|██████████| 1454/1454 [00:16<00:00, 87.06it/s]\n"
     ]
    },
    {
     "name": "stdout",
     "output_type": "stream",
     "text": [
      "[Epoch 23] LogisticLoss: 0.601149\n"
     ]
    },
    {
     "name": "stderr",
     "output_type": "stream",
     "text": [
      "evaluating: 100%|██████████| 101/101 [00:00<00:00, 257.00it/s]\n"
     ]
    },
    {
     "name": "stdout",
     "output_type": "stream",
     "text": [
      "[Epoch 23] rmse: 0.441743, mae: 0.356639, auc: 0.729750, accuracy: 0.707295\n"
     ]
    },
    {
     "name": "stderr",
     "output_type": "stream",
     "text": [
      "Epoch 24: 100%|██████████| 1454/1454 [00:16<00:00, 87.92it/s]\n"
     ]
    },
    {
     "name": "stdout",
     "output_type": "stream",
     "text": [
      "[Epoch 24] LogisticLoss: 0.598291\n"
     ]
    },
    {
     "name": "stderr",
     "output_type": "stream",
     "text": [
      "evaluating: 100%|██████████| 101/101 [00:00<00:00, 254.68it/s]\n"
     ]
    },
    {
     "name": "stdout",
     "output_type": "stream",
     "text": [
      "[Epoch 24] rmse: 0.441596, mae: 0.355530, auc: 0.730781, accuracy: 0.707647\n"
     ]
    },
    {
     "name": "stderr",
     "output_type": "stream",
     "text": [
      "Epoch 25: 100%|██████████| 1454/1454 [00:16<00:00, 86.40it/s]\n"
     ]
    },
    {
     "name": "stdout",
     "output_type": "stream",
     "text": [
      "[Epoch 25] LogisticLoss: 0.595634\n"
     ]
    },
    {
     "name": "stderr",
     "output_type": "stream",
     "text": [
      "evaluating: 100%|██████████| 101/101 [00:00<00:00, 259.99it/s]\n"
     ]
    },
    {
     "name": "stdout",
     "output_type": "stream",
     "text": [
      "[Epoch 25] rmse: 0.441486, mae: 0.354484, auc: 0.731698, accuracy: 0.708037\n"
     ]
    },
    {
     "name": "stderr",
     "output_type": "stream",
     "text": [
      "Epoch 26: 100%|██████████| 1454/1454 [00:16<00:00, 87.24it/s]\n"
     ]
    },
    {
     "name": "stdout",
     "output_type": "stream",
     "text": [
      "[Epoch 26] LogisticLoss: 0.593187\n"
     ]
    },
    {
     "name": "stderr",
     "output_type": "stream",
     "text": [
      "evaluating: 100%|██████████| 101/101 [00:00<00:00, 257.08it/s]\n"
     ]
    },
    {
     "name": "stdout",
     "output_type": "stream",
     "text": [
      "[Epoch 26] rmse: 0.441407, mae: 0.353495, auc: 0.732542, accuracy: 0.707803\n"
     ]
    },
    {
     "name": "stderr",
     "output_type": "stream",
     "text": [
      "Epoch 27: 100%|██████████| 1454/1454 [00:16<00:00, 85.62it/s]\n"
     ]
    },
    {
     "name": "stdout",
     "output_type": "stream",
     "text": [
      "[Epoch 27] LogisticLoss: 0.590916\n"
     ]
    },
    {
     "name": "stderr",
     "output_type": "stream",
     "text": [
      "evaluating: 100%|██████████| 101/101 [00:00<00:00, 257.11it/s]\n"
     ]
    },
    {
     "name": "stdout",
     "output_type": "stream",
     "text": [
      "[Epoch 27] rmse: 0.441353, mae: 0.352560, auc: 0.733305, accuracy: 0.708662\n"
     ]
    },
    {
     "name": "stderr",
     "output_type": "stream",
     "text": [
      "Epoch 28: 100%|██████████| 1454/1454 [00:16<00:00, 86.87it/s]\n"
     ]
    },
    {
     "name": "stdout",
     "output_type": "stream",
     "text": [
      "[Epoch 28] LogisticLoss: 0.588779\n"
     ]
    },
    {
     "name": "stderr",
     "output_type": "stream",
     "text": [
      "evaluating: 100%|██████████| 101/101 [00:00<00:00, 222.84it/s]\n"
     ]
    },
    {
     "name": "stdout",
     "output_type": "stream",
     "text": [
      "[Epoch 28] rmse: 0.441320, mae: 0.351674, auc: 0.734012, accuracy: 0.708389\n"
     ]
    },
    {
     "name": "stderr",
     "output_type": "stream",
     "text": [
      "Epoch 29: 100%|██████████| 1454/1454 [00:16<00:00, 85.80it/s]\n"
     ]
    },
    {
     "name": "stdout",
     "output_type": "stream",
     "text": [
      "[Epoch 29] LogisticLoss: 0.586773\n"
     ]
    },
    {
     "name": "stderr",
     "output_type": "stream",
     "text": [
      "evaluating: 100%|██████████| 101/101 [00:00<00:00, 251.22it/s]\n"
     ]
    },
    {
     "name": "stdout",
     "output_type": "stream",
     "text": [
      "[Epoch 29] rmse: 0.441304, mae: 0.350832, auc: 0.734663, accuracy: 0.708935\n"
     ]
    },
    {
     "name": "stderr",
     "output_type": "stream",
     "text": [
      "Epoch 30: 100%|██████████| 1454/1454 [00:16<00:00, 88.05it/s]\n"
     ]
    },
    {
     "name": "stdout",
     "output_type": "stream",
     "text": [
      "[Epoch 30] LogisticLoss: 0.584896\n"
     ]
    },
    {
     "name": "stderr",
     "output_type": "stream",
     "text": [
      "evaluating: 100%|██████████| 101/101 [00:00<00:00, 237.75it/s]\n"
     ]
    },
    {
     "name": "stdout",
     "output_type": "stream",
     "text": [
      "[Epoch 30] rmse: 0.441303, mae: 0.350032, auc: 0.735267, accuracy: 0.709404\n"
     ]
    },
    {
     "name": "stderr",
     "output_type": "stream",
     "text": [
      "Epoch 31: 100%|██████████| 1454/1454 [00:16<00:00, 86.27it/s]\n"
     ]
    },
    {
     "name": "stdout",
     "output_type": "stream",
     "text": [
      "[Epoch 31] LogisticLoss: 0.583142\n"
     ]
    },
    {
     "name": "stderr",
     "output_type": "stream",
     "text": [
      "evaluating: 100%|██████████| 101/101 [00:00<00:00, 201.31it/s]\n"
     ]
    },
    {
     "name": "stdout",
     "output_type": "stream",
     "text": [
      "[Epoch 31] rmse: 0.441316, mae: 0.349269, auc: 0.735822, accuracy: 0.710185\n"
     ]
    },
    {
     "name": "stderr",
     "output_type": "stream",
     "text": [
      "Epoch 32: 100%|██████████| 1454/1454 [00:16<00:00, 87.13it/s]\n"
     ]
    },
    {
     "name": "stdout",
     "output_type": "stream",
     "text": [
      "[Epoch 32] LogisticLoss: 0.581465\n"
     ]
    },
    {
     "name": "stderr",
     "output_type": "stream",
     "text": [
      "evaluating: 100%|██████████| 101/101 [00:00<00:00, 257.03it/s]\n"
     ]
    },
    {
     "name": "stdout",
     "output_type": "stream",
     "text": [
      "[Epoch 32] rmse: 0.441342, mae: 0.348543, auc: 0.736321, accuracy: 0.710458\n"
     ]
    },
    {
     "name": "stderr",
     "output_type": "stream",
     "text": [
      "Epoch 33: 100%|██████████| 1454/1454 [00:16<00:00, 86.11it/s]\n"
     ]
    },
    {
     "name": "stdout",
     "output_type": "stream",
     "text": [
      "[Epoch 33] LogisticLoss: 0.579886\n"
     ]
    },
    {
     "name": "stderr",
     "output_type": "stream",
     "text": [
      "evaluating: 100%|██████████| 101/101 [00:00<00:00, 260.66it/s]\n"
     ]
    },
    {
     "name": "stdout",
     "output_type": "stream",
     "text": [
      "[Epoch 33] rmse: 0.441380, mae: 0.347850, auc: 0.736792, accuracy: 0.710458\n"
     ]
    },
    {
     "name": "stderr",
     "output_type": "stream",
     "text": [
      "Epoch 34: 100%|██████████| 1454/1454 [00:16<00:00, 87.56it/s]\n"
     ]
    },
    {
     "name": "stdout",
     "output_type": "stream",
     "text": [
      "[Epoch 34] LogisticLoss: 0.578380\n"
     ]
    },
    {
     "name": "stderr",
     "output_type": "stream",
     "text": [
      "evaluating: 100%|██████████| 101/101 [00:00<00:00, 260.01it/s]\n",
      "INFO:root:save parameters to gcirt.params\n"
     ]
    },
    {
     "name": "stdout",
     "output_type": "stream",
     "text": [
      "[Epoch 34] rmse: 0.441429, mae: 0.347189, auc: 0.737221, accuracy: 0.710576\n"
     ]
    }
   ],
   "source": [
    "from EduCDM import GCIRT\n",
    "import logging\n",
    "\n",
    "logging.getLogger().setLevel(logging.INFO)\n",
    "\n",
    "\n",
    "user_num = max(train_data[\"user_id\"].unique())\n",
    "# print(user_num)\n",
    "\n",
    "cdm = GCIRT(6622, 17747)\n",
    "\n",
    "cdm.train(train, valid, epoch=35)\n",
    "cdm.save(\"gcirt.params\")"
   ]
  },
  {
   "cell_type": "code",
   "execution_count": 7,
   "metadata": {},
   "outputs": [
    {
     "name": "stderr",
     "output_type": "stream",
     "text": [
      "INFO:root:load parameters from gcirt.params\n",
      "evaluating: 100%|██████████| 218/218 [00:01<00:00, 146.90it/s]\n"
     ]
    },
    {
     "name": "stdout",
     "output_type": "stream",
     "text": [
      "rmse: 0.441838, mae: 0.348250, auc: 0.738256, accuracy: 0.710151\n"
     ]
    }
   ],
   "source": [
    "cdm.load(\"gcirt.params\")\n",
    "rmse, mae, auc, accuracy = cdm.eval(test)\n",
    "print(\"rmse: %.6f, mae: %.6f, auc: %.6f, accuracy: %.6f\" % (rmse, mae, auc, accuracy))"
   ]
  },
  {
   "cell_type": "code",
   "execution_count": 8,
   "metadata": {},
   "outputs": [
    {
     "data": {
      "text/plain": [
       "(<torch.utils.data.dataloader.DataLoader at 0x20ca8f90220>,\n",
       " <torch.utils.data.dataloader.DataLoader at 0x20ca182a2b0>)"
      ]
     },
     "execution_count": 8,
     "metadata": {},
     "output_type": "execute_result"
    }
   ],
   "source": [
    "batch_size = 256\n",
    "def transform(x, y, z, batch_size, **params):\n",
    "    x = x.to_numpy()\n",
    "    y = y.to_numpy()\n",
    "    z = z.to_numpy()\n",
    "    dataset = TensorDataset(\n",
    "        torch.tensor(x, dtype=torch.int64),\n",
    "        torch.tensor(y, dtype=torch.int64),\n",
    "        torch.tensor(z, dtype=torch.float32)\n",
    "    )\n",
    "    return DataLoader(dataset, batch_size=batch_size, **params)\n",
    "\n",
    "\n",
    "test_data = pd.read_csv('../../../data/a0910/test.csv')\n",
    "user_records_count = pd.read_csv('../../../data/a0910/user_records_count.csv')\n",
    "test_data = test_data.merge(user_records_count, on='user_id', how='inner')\n",
    "\n",
    "test1_data = test_data[test_data['count'] < 200]\n",
    "test2_data = test_data[test_data['count'] >= 200]\n",
    "\n",
    "test1, test2 = [\n",
    "    transform(data[\"user_id\"], data[\"item_id\"], data[\"score\"], batch_size)\n",
    "    for data in [test1_data, test2_data]\n",
    "]\n",
    "test1, test2"
   ]
  },
  {
   "cell_type": "code",
   "execution_count": 9,
   "metadata": {},
   "outputs": [
    {
     "name": "stderr",
     "output_type": "stream",
     "text": [
      "INFO:root:load parameters from gcirt.params\n",
      "evaluating: 100%|██████████| 104/104 [00:00<00:00, 150.92it/s]\n",
      "INFO:root:load parameters from gcirt.params\n"
     ]
    },
    {
     "name": "stdout",
     "output_type": "stream",
     "text": [
      "rmse: 0.458429, mae: 0.366197, auc: 0.726190, accuracy: 0.688919\n"
     ]
    },
    {
     "name": "stderr",
     "output_type": "stream",
     "text": [
      "evaluating: 100%|██████████| 115/115 [00:00<00:00, 140.45it/s]"
     ]
    },
    {
     "name": "stdout",
     "output_type": "stream",
     "text": [
      "rmse: 0.426239, mae: 0.331980, auc: 0.747980, accuracy: 0.729399\n"
     ]
    },
    {
     "name": "stderr",
     "output_type": "stream",
     "text": [
      "\n"
     ]
    }
   ],
   "source": [
    "cdm.load(\"gcirt.params\")\n",
    "rmse, mae, auc, accuracy = cdm.eval(test1)\n",
    "print(\"rmse: %.6f, mae: %.6f, auc: %.6f, accuracy: %.6f\" % (rmse, mae, auc, accuracy))\n",
    "\n",
    "cdm.load(\"gcirt.params\")\n",
    "rmse, mae, auc, accuracy = cdm.eval(test2)\n",
    "print(\"rmse: %.6f, mae: %.6f, auc: %.6f, accuracy: %.6f\" % (rmse, mae, auc, accuracy))"
   ]
  },
  {
   "cell_type": "code",
   "execution_count": 1,
   "metadata": {},
   "outputs": [
    {
     "name": "stderr",
     "output_type": "stream",
     "text": [
      "/data/zhengz/anaconda3/envs/pytorch/lib/python3.10/site-packages/tqdm/auto.py:22: TqdmWarning: IProgress not found. Please update jupyter and ipywidgets. See https://ipywidgets.readthedocs.io/en/stable/user_install.html\n",
      "  from .autonotebook import tqdm as notebook_tqdm\n"
     ]
    },
    {
     "name": "stdout",
     "output_type": "stream",
     "text": [
      "torch.Size([64, 3])\n"
     ]
    }
   ],
   "source": [
    "import torch\n",
    "from torch.utils.data import TensorDataset, DataLoader\n",
    "import pandas as pd\n",
    "import random\n",
    "import numpy as np\n",
    "\n",
    "train_data = pd.read_csv(\"../../../data/a0910/3_fake_train.csv\")\n",
    "batch_size = 64\n",
    "\n",
    "def transform_train_data(x, y, z, f, p, batch_size, **params):\n",
    "    dataset = TensorDataset(\n",
    "        torch.tensor(x, dtype=torch.int64),\n",
    "        torch.tensor(y, dtype=torch.int64),\n",
    "        torch.tensor(z, dtype=torch.float32),\n",
    "        torch.tensor(f, dtype=torch.int64),\n",
    "        torch.tensor(p, dtype=torch.float32)\n",
    "    )\n",
    "    return DataLoader(dataset, batch_size=batch_size, **params)\n",
    "\n",
    "user_id_pair = []\n",
    "pos = []\n",
    "for i, s in train_data.iterrows():\n",
    "    codes1 = eval(s['user_id_pair'])\n",
    "    codes2 = eval(s['pos'])\n",
    "    user_id_pair.append(codes1)\n",
    "    pos.append(codes2)\n",
    "    \n",
    "train = transform_train_data(train_data[\"user_id\"], train_data[\"item_id\"], train_data[\"score\"], user_id_pair, pos, batch_size)\n",
    "\n",
    "# 创建一个迭代器\n",
    "iterator = iter(train)\n",
    "\n",
    "# 获取第一个元素\n",
    "user_id, item_id, response, user_id_pair, pos = next(iterator)\n",
    "\n",
    "# 打印 user_id_pair 的形状\n",
    "print(user_id_pair.shape)\n"
   ]
  },
  {
   "cell_type": "code",
   "execution_count": 5,
   "metadata": {},
   "outputs": [
    {
     "name": "stderr",
     "output_type": "stream",
     "text": [
      "Epoch 0:   0%|          | 0/11629 [00:00<?, ?it/s]\n"
     ]
    },
    {
     "ename": "IndexError",
     "evalue": "Dimension out of range (expected to be in range of [-1, 0], but got 1)",
     "output_type": "error",
     "traceback": [
      "\u001b[0;31m---------------------------------------------------------------------------\u001b[0m",
      "\u001b[0;31mIndexError\u001b[0m                                Traceback (most recent call last)",
      "\u001b[1;32m/data/zhengz/EduC/examples/IRT/C/IRT.ipynb Cell 16\u001b[0m line \u001b[0;36m4\n\u001b[1;32m     <a href='vscode-notebook-cell://ssh-remote%2Btongtong/data/zhengz/EduC/examples/IRT/C/IRT.ipynb#X21sdnNjb2RlLXJlbW90ZQ%3D%3D?line=43'>44</a>\u001b[0m \u001b[39m# print(user_num)\u001b[39;00m\n\u001b[1;32m     <a href='vscode-notebook-cell://ssh-remote%2Btongtong/data/zhengz/EduC/examples/IRT/C/IRT.ipynb#X21sdnNjb2RlLXJlbW90ZQ%3D%3D?line=44'>45</a>\u001b[0m cdm \u001b[39m=\u001b[39m CIRT(user_num \u001b[39m+\u001b[39m \u001b[39m1\u001b[39m, \u001b[39m17747\u001b[39m)\n\u001b[0;32m---> <a href='vscode-notebook-cell://ssh-remote%2Btongtong/data/zhengz/EduC/examples/IRT/C/IRT.ipynb#X21sdnNjb2RlLXJlbW90ZQ%3D%3D?line=46'>47</a>\u001b[0m cdm\u001b[39m.\u001b[39;49mtrain(train, valid, epoch\u001b[39m=\u001b[39;49m\u001b[39m18\u001b[39;49m)\n\u001b[1;32m     <a href='vscode-notebook-cell://ssh-remote%2Btongtong/data/zhengz/EduC/examples/IRT/C/IRT.ipynb#X21sdnNjb2RlLXJlbW90ZQ%3D%3D?line=47'>48</a>\u001b[0m cdm\u001b[39m.\u001b[39msave(\u001b[39m\"\u001b[39m\u001b[39mirt3.params\u001b[39m\u001b[39m\"\u001b[39m)\n\u001b[1;32m     <a href='vscode-notebook-cell://ssh-remote%2Btongtong/data/zhengz/EduC/examples/IRT/C/IRT.ipynb#X21sdnNjb2RlLXJlbW90ZQ%3D%3D?line=49'>50</a>\u001b[0m cdm\u001b[39m.\u001b[39mload(\u001b[39m\"\u001b[39m\u001b[39mirt3.params\u001b[39m\u001b[39m\"\u001b[39m)\n",
      "File \u001b[0;32m~/EduC/examples/IRT/C/../../../EduCDM/IRT/C/IRT.py:104\u001b[0m, in \u001b[0;36mIRT.train\u001b[0;34m(self, train_data, test_data, epoch, device, lr)\u001b[0m\n\u001b[1;32m     96\u001b[0m     predicted_theta_pair \u001b[39m=\u001b[39m torch\u001b[39m.\u001b[39mTensor(predicted_theta_pair)\n\u001b[1;32m     97\u001b[0m     \u001b[39m# response: torch.Tensor = response.to(device)\u001b[39;00m\n\u001b[1;32m     98\u001b[0m     \u001b[39m# loss_score = score_loss_function(predicted_response, response)\u001b[39;00m\n\u001b[1;32m     99\u001b[0m     \u001b[39m# print(\"1\\n\")\u001b[39;00m\n\u001b[0;32m   (...)\u001b[0m\n\u001b[1;32m    102\u001b[0m     \u001b[39m# print(response)\u001b[39;00m\n\u001b[1;32m    103\u001b[0m     \u001b[39m# print(pos)\u001b[39;00m\n\u001b[0;32m--> 104\u001b[0m     loss_theta \u001b[39m+\u001b[39m\u001b[39m=\u001b[39m theta_loss_function(predicted_theta, predicted_theta_pair, poses[i])\n\u001b[1;32m    105\u001b[0m loss_score \u001b[39m=\u001b[39m score_loss_function(predicted_response, response)\n\u001b[1;32m    106\u001b[0m loss \u001b[39m=\u001b[39m loss_function(loss_score, loss_theta)\n",
      "File \u001b[0;32m~/anaconda3/envs/pytorch/lib/python3.10/site-packages/torch/nn/modules/module.py:1130\u001b[0m, in \u001b[0;36mModule._call_impl\u001b[0;34m(self, *input, **kwargs)\u001b[0m\n\u001b[1;32m   1126\u001b[0m \u001b[39m# If we don't have any hooks, we want to skip the rest of the logic in\u001b[39;00m\n\u001b[1;32m   1127\u001b[0m \u001b[39m# this function, and just call forward.\u001b[39;00m\n\u001b[1;32m   1128\u001b[0m \u001b[39mif\u001b[39;00m \u001b[39mnot\u001b[39;00m (\u001b[39mself\u001b[39m\u001b[39m.\u001b[39m_backward_hooks \u001b[39mor\u001b[39;00m \u001b[39mself\u001b[39m\u001b[39m.\u001b[39m_forward_hooks \u001b[39mor\u001b[39;00m \u001b[39mself\u001b[39m\u001b[39m.\u001b[39m_forward_pre_hooks \u001b[39mor\u001b[39;00m _global_backward_hooks\n\u001b[1;32m   1129\u001b[0m         \u001b[39mor\u001b[39;00m _global_forward_hooks \u001b[39mor\u001b[39;00m _global_forward_pre_hooks):\n\u001b[0;32m-> 1130\u001b[0m     \u001b[39mreturn\u001b[39;00m forward_call(\u001b[39m*\u001b[39;49m\u001b[39minput\u001b[39;49m, \u001b[39m*\u001b[39;49m\u001b[39m*\u001b[39;49mkwargs)\n\u001b[1;32m   1131\u001b[0m \u001b[39m# Do not call functions when jit is used\u001b[39;00m\n\u001b[1;32m   1132\u001b[0m full_backward_hooks, non_full_backward_hooks \u001b[39m=\u001b[39m [], []\n",
      "File \u001b[0;32m~/EduC/examples/IRT/C/../../../EduCDM/IRT/C/loss.py:50\u001b[0m, in \u001b[0;36mPairSCELoss.forward\u001b[0;34m(self, pred_theta, pred_theta_pair, pos, *args)\u001b[0m\n\u001b[1;32m     47\u001b[0m \u001b[39mif\u001b[39;00m pred_theta_pair\u001b[39m.\u001b[39mdim() \u001b[39m==\u001b[39m \u001b[39m1\u001b[39m:\n\u001b[1;32m     48\u001b[0m     pred_theta_pair\u001b[39m.\u001b[39munsqueeze(\u001b[39m-\u001b[39m\u001b[39m1\u001b[39m)\n\u001b[0;32m---> 50\u001b[0m pred_theta \u001b[39m=\u001b[39m pred_theta\u001b[39m.\u001b[39;49mmean(dim\u001b[39m=\u001b[39;49m\u001b[39m1\u001b[39;49m)\n\u001b[1;32m     51\u001b[0m pred_theta_pair \u001b[39m=\u001b[39m pred_theta_pair\u001b[39m.\u001b[39mmean(dim\u001b[39m=\u001b[39m\u001b[39m1\u001b[39m)\n\u001b[1;32m     53\u001b[0m loss \u001b[39m=\u001b[39m torch\u001b[39m.\u001b[39mwhere(\n\u001b[1;32m     54\u001b[0m     ((pos \u001b[39m==\u001b[39m \u001b[39m1.0\u001b[39m) \u001b[39m&\u001b[39m (pred_theta \u001b[39m>\u001b[39m pred_theta_pair)) \u001b[39m|\u001b[39m ((pos \u001b[39m==\u001b[39m \u001b[39m-\u001b[39m\u001b[39m1.0\u001b[39m) \u001b[39m&\u001b[39m (pred_theta \u001b[39m<\u001b[39m pred_theta_pair)),\n\u001b[1;32m     55\u001b[0m     torch\u001b[39m.\u001b[39mzeros_like(pred_theta),\n\u001b[1;32m     56\u001b[0m     (pred_theta \u001b[39m-\u001b[39m pred_theta_pair) \u001b[39m*\u001b[39m\u001b[39m*\u001b[39m \u001b[39m2\u001b[39m\n\u001b[1;32m     57\u001b[0m )\n",
      "\u001b[0;31mIndexError\u001b[0m: Dimension out of range (expected to be in range of [-1, 0], but got 1)"
     ]
    }
   ],
   "source": [
    "# coding: utf-8\n",
    "# 2021/3/23 @ tongshiwei\n",
    "import sys\n",
    "sys.path.append(\"../../..\")\n",
    "\n",
    "import logging\n",
    "from EduCDM import CIRT\n",
    "import torch\n",
    "from torch.utils.data import TensorDataset, DataLoader\n",
    "import pandas as pd\n",
    "import random\n",
    "import numpy as np\n",
    "\n",
    "batch_size = 256\n",
    "sample_size = 3\n",
    "\n",
    "train_data = pd.read_csv(\"../../../data/a0910/\" + str(sample_size) + \"_fake_train.csv\")\n",
    "valid_data = pd.read_csv(\"../../../data/a0910/valid.csv\")\n",
    "test_data = pd.read_csv(\"../../../data/a0910/test.csv\")\n",
    "\n",
    "\n",
    "\n",
    "def transform(x, y, z, batch_size, **params):\n",
    "    dataset = TensorDataset(\n",
    "        torch.tensor(x, dtype=torch.int64),\n",
    "        torch.tensor(y, dtype=torch.int64),\n",
    "        torch.tensor(z, dtype=torch.float32)\n",
    "    )\n",
    "    return DataLoader(dataset, batch_size=batch_size, **params)\n",
    "\n",
    "\n",
    "\n",
    "valid, test = [\n",
    "    transform(data[\"user_id\"], data[\"item_id\"], data[\"score\"], batch_size)\n",
    "    for data in [valid_data, test_data]\n",
    "]\n",
    "\n",
    "# print(train_data[\"pos\"])\n",
    "# print(max(train_data['user_id'].unique()))\n",
    "\n",
    "logging.getLogger().setLevel(logging.INFO)\n",
    "\n",
    "user_num = max(train_data['user_id'].unique())\n",
    "# print(user_num)\n",
    "cdm = CIRT(user_num + 1, 17747)\n",
    "\n",
    "cdm.train(train, valid, epoch=18)\n",
    "cdm.save(\"irt3.params\")\n",
    "\n",
    "cdm.load(\"irt3.params\")\n",
    "rmse, mae, auc, accuracy = cdm.eval(test)\n",
    "print(\"rmse: %.6f, mae: %.6f, auc: %.6f, accuracy: %.6f\" % (rmse, mae, auc, accuracy))\n"
   ]
  }
 ],
 "metadata": {
  "kernelspec": {
   "display_name": "Python 3",
   "language": "python",
   "name": "python3"
  },
  "language_info": {
   "codemirror_mode": {
    "name": "ipython",
    "version": 3
   },
   "file_extension": ".py",
   "mimetype": "text/x-python",
   "name": "python",
   "nbconvert_exporter": "python",
   "pygments_lexer": "ipython3",
   "version": "3.10.6"
  }
 },
 "nbformat": 4,
 "nbformat_minor": 2
}
