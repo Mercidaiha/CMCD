{
 "cells": [
  {
   "cell_type": "code",
   "execution_count": 2,
   "metadata": {},
   "outputs": [],
   "source": [
    "import sys\n",
    "sys.path.append(\"../../..\")\n",
    "\n",
    "import pandas as pd\n",
    "import random\n",
    "import numpy as np\n",
    "\n",
    "train_data = pd.read_csv(\"../../../data/a0910/train.csv\")\n",
    "valid_data = pd.read_csv(\"../../../data/a0910/valid.csv\")\n",
    "test_data = pd.read_csv(\"../../../data/a0910/test.csv\")\n",
    "\n",
    "sample_size = 3\n",
    "\n",
    "def fake_train_data(train_data, valid_data, test_data, s):\n",
    "    all_data = pd.concat([train_data, valid_data, test_data], axis=0)\n",
    "    existing_all_users = all_data['user_id'].unique()\n",
    "    existing_train_users = train_data['user_id'].unique()\n",
    "    new_train_data = []\n",
    "    for train_user in existing_train_users:\n",
    "        user_data = train_data[train_data['user_id'] == train_user]\n",
    "\n",
    "        num_rows = len(user_data)\n",
    "        if num_rows < s:\n",
    "            random_rows = list(range(num_rows))\n",
    "            s = num_rows\n",
    "        else:\n",
    "            random_rows = random.sample(range(num_rows), s)\n",
    "\n",
    "        fake_user_ids = []\n",
    "        for _ in range(s):\n",
    "            fake_user_id = max(existing_all_users) + 1\n",
    "            while fake_user_id in existing_all_users:\n",
    "                fake_user_id += 1\n",
    "            existing_all_users = np.append(existing_all_users, fake_user_id)\n",
    "            fake_user_ids.append(fake_user_id)\n",
    "\n",
    "        pos = [(user_data.iloc[i]['score'] - 0.5) * 2 for i in random_rows]\n",
    "        row_count = 0\n",
    "        for index, row in user_data.iterrows():\n",
    "            user_id = row['user_id']\n",
    "            item_id = row['item_id']\n",
    "            score = row['score']\n",
    "\n",
    "            data_point = {\n",
    "                'user_id': user_id,\n",
    "                'item_id': item_id,\n",
    "                'score': score,\n",
    "                'user_id_pair': fake_user_ids,\n",
    "                'pos': pos,\n",
    "                'fake': 0\n",
    "            }\n",
    "            new_train_data.append(data_point)\n",
    "\n",
    "            for i in range(s):   \n",
    "                if row_count == random_rows[i]:\n",
    "                    fake_score = 1 - score\n",
    "                    fake_data_point = {\n",
    "                        'user_id': fake_user_ids[i],\n",
    "                        'item_id': item_id,\n",
    "                        'score': fake_score,\n",
    "                        'user_id_pair': [user_id] * s,\n",
    "                        'pos': [- pos[i]] * s,\n",
    "                        'fake': 1\n",
    "                    }\n",
    "                    new_train_data.append(fake_data_point)\n",
    "                else:\n",
    "                    fake_data_point = {\n",
    "                        'user_id': fake_user_ids[i],\n",
    "                        'item_id': item_id,\n",
    "                        'score': score,\n",
    "                        'user_id_pair': [user_id] * s,\n",
    "                        'pos': [- pos[i]] * s,\n",
    "                        'fake': 1\n",
    "                    }\n",
    "                    new_train_data.append(fake_data_point)\n",
    "            row_count += 1\n",
    "\n",
    "    new_train_data_df = pd.DataFrame(new_train_data)\n",
    "    shuffled_data = new_train_data_df.sample(frac=1).reset_index(drop=True)\n",
    "    return shuffled_data, max(existing_all_users)\n",
    "\n",
    "train_data, user_num = fake_train_data(train_data, valid_data, test_data, sample_size)\n",
    "train_data.to_csv(\"../../../data/a0910/\" + str(sample_size) + \"_fake_train.csv\", index=False)"
   ]
  },
  {
   "cell_type": "code",
   "execution_count": 1,
   "metadata": {},
   "outputs": [],
   "source": [
    "# coding: utf-8\n",
    "import sys\n",
    "sys.path.append(\"../../..\")\n",
    "\n",
    "import logging\n",
    "from EduCDM import CIRT\n",
    "import torch\n",
    "from torch.utils.data import TensorDataset, DataLoader\n",
    "import pandas as pd\n",
    "import random\n",
    "import numpy as np\n",
    "\n",
    "batch_size = 256\n",
    "sample_size = 3\n",
    "\n",
    "train_data = pd.read_csv(\"../../../data/a0910/\" + str(sample_size) + \"_fake_train.csv\")\n",
    "valid_data = pd.read_csv(\"../../../data/a0910/valid.csv\")\n",
    "test_data = pd.read_csv(\"../../../data/a0910/test.csv\")\n",
    "\n",
    "\n",
    "def transform(x, y, z, batch_size, **params):\n",
    "    dataset = TensorDataset(\n",
    "        torch.tensor(x, dtype=torch.int64),\n",
    "        torch.tensor(y, dtype=torch.int64),\n",
    "        torch.tensor(z, dtype=torch.float32)\n",
    "    )\n",
    "    return DataLoader(dataset, batch_size=batch_size, **params)\n",
    "\n",
    "def transform_train_data(x, y, z, f, p, batch_size, **params):\n",
    "    dataset = TensorDataset(\n",
    "        torch.tensor(x, dtype=torch.int64),\n",
    "        torch.tensor(y, dtype=torch.int64),\n",
    "        torch.tensor(z, dtype=torch.float32),\n",
    "        torch.tensor(f, dtype=torch.int64),\n",
    "        torch.tensor(p, dtype=torch.float32)\n",
    "    )\n",
    "    return DataLoader(dataset, batch_size=batch_size, **params)\n",
    "\n",
    "\n",
    "\n",
    "valid, test = [\n",
    "    transform(data[\"user_id\"], data[\"item_id\"], data[\"score\"], batch_size)\n",
    "    for data in [valid_data, test_data]\n",
    "]\n",
    "\n",
    "\n",
    "user_id_pair = []\n",
    "pos = []\n",
    "for i, s in train_data.iterrows():\n",
    "    codes1 = eval(s['user_id_pair'])\n",
    "    codes2 = eval(s['pos'])\n",
    "    user_id_pair.append(codes1)\n",
    "    pos.append(codes2)\n",
    "    \n",
    "train = transform_train_data(train_data[\"user_id\"], train_data[\"item_id\"], train_data[\"score\"], user_id_pair, pos, batch_size)\n",
    "# print(train_data[\"pos\"])\n",
    "# print(max(train_data['user_id'].unique()))\n"
   ]
  },
  {
   "cell_type": "code",
   "execution_count": 6,
   "metadata": {},
   "outputs": [
    {
     "name": "stderr",
     "output_type": "stream",
     "text": [
      "Epoch 0: 100%|██████████| 2908/2908 [00:36<00:00, 79.02it/s]\n"
     ]
    },
    {
     "name": "stdout",
     "output_type": "stream",
     "text": [
      "[Epoch 0] LogisticLoss: 0.768744\n"
     ]
    },
    {
     "name": "stderr",
     "output_type": "stream",
     "text": [
      "evaluating: 100%|██████████| 101/101 [00:00<00:00, 291.04it/s]\n"
     ]
    },
    {
     "name": "stdout",
     "output_type": "stream",
     "text": [
      "[Epoch 0] rmse: 0.490710, mae: 0.410496, auc: 0.551550, accuracy: 0.647622\n"
     ]
    },
    {
     "name": "stderr",
     "output_type": "stream",
     "text": [
      "Epoch 1: 100%|██████████| 2908/2908 [00:38<00:00, 76.04it/s] \n"
     ]
    },
    {
     "name": "stdout",
     "output_type": "stream",
     "text": [
      "[Epoch 1] LogisticLoss: 0.683739\n"
     ]
    },
    {
     "name": "stderr",
     "output_type": "stream",
     "text": [
      "evaluating: 100%|██████████| 101/101 [00:00<00:00, 197.56it/s]\n"
     ]
    },
    {
     "name": "stdout",
     "output_type": "stream",
     "text": [
      "[Epoch 1] rmse: 0.475759, mae: 0.401894, auc: 0.604801, accuracy: 0.661525\n"
     ]
    },
    {
     "name": "stderr",
     "output_type": "stream",
     "text": [
      "Epoch 2: 100%|██████████| 2908/2908 [00:36<00:00, 80.39it/s] \n"
     ]
    },
    {
     "name": "stdout",
     "output_type": "stream",
     "text": [
      "[Epoch 2] LogisticLoss: 0.628004\n"
     ]
    },
    {
     "name": "stderr",
     "output_type": "stream",
     "text": [
      "evaluating: 100%|██████████| 101/101 [00:00<00:00, 264.57it/s]\n"
     ]
    },
    {
     "name": "stdout",
     "output_type": "stream",
     "text": [
      "[Epoch 2] rmse: 0.464676, mae: 0.394644, auc: 0.646334, accuracy: 0.672694\n"
     ]
    },
    {
     "name": "stderr",
     "output_type": "stream",
     "text": [
      "Epoch 3: 100%|██████████| 2908/2908 [00:37<00:00, 76.79it/s] \n"
     ]
    },
    {
     "name": "stdout",
     "output_type": "stream",
     "text": [
      "[Epoch 3] LogisticLoss: 0.589764\n"
     ]
    },
    {
     "name": "stderr",
     "output_type": "stream",
     "text": [
      "evaluating: 100%|██████████| 101/101 [00:00<00:00, 310.98it/s]\n"
     ]
    },
    {
     "name": "stdout",
     "output_type": "stream",
     "text": [
      "[Epoch 3] rmse: 0.456721, mae: 0.388293, auc: 0.675045, accuracy: 0.680192\n"
     ]
    },
    {
     "name": "stderr",
     "output_type": "stream",
     "text": [
      "Epoch 4: 100%|██████████| 2908/2908 [00:37<00:00, 77.43it/s] \n"
     ]
    },
    {
     "name": "stdout",
     "output_type": "stream",
     "text": [
      "[Epoch 4] LogisticLoss: 0.562494\n"
     ]
    },
    {
     "name": "stderr",
     "output_type": "stream",
     "text": [
      "evaluating: 100%|██████████| 101/101 [00:00<00:00, 290.82it/s]\n"
     ]
    },
    {
     "name": "stdout",
     "output_type": "stream",
     "text": [
      "[Epoch 4] rmse: 0.451085, mae: 0.382696, auc: 0.694177, accuracy: 0.687573\n"
     ]
    },
    {
     "name": "stderr",
     "output_type": "stream",
     "text": [
      "Epoch 5: 100%|██████████| 2908/2908 [00:38<00:00, 75.39it/s] \n"
     ]
    },
    {
     "name": "stdout",
     "output_type": "stream",
     "text": [
      "[Epoch 5] LogisticLoss: 0.542263\n"
     ]
    },
    {
     "name": "stderr",
     "output_type": "stream",
     "text": [
      "evaluating: 100%|██████████| 101/101 [00:00<00:00, 323.94it/s]\n"
     ]
    },
    {
     "name": "stdout",
     "output_type": "stream",
     "text": [
      "[Epoch 5] rmse: 0.447056, mae: 0.377729, auc: 0.707087, accuracy: 0.692767\n"
     ]
    },
    {
     "name": "stderr",
     "output_type": "stream",
     "text": [
      "Epoch 6: 100%|██████████| 2908/2908 [00:36<00:00, 79.70it/s]\n"
     ]
    },
    {
     "name": "stdout",
     "output_type": "stream",
     "text": [
      "[Epoch 6] LogisticLoss: 0.526680\n"
     ]
    },
    {
     "name": "stderr",
     "output_type": "stream",
     "text": [
      "evaluating: 100%|██████████| 101/101 [00:00<00:00, 303.44it/s]\n"
     ]
    },
    {
     "name": "stdout",
     "output_type": "stream",
     "text": [
      "[Epoch 6] rmse: 0.444126, mae: 0.373291, auc: 0.716151, accuracy: 0.698274\n"
     ]
    },
    {
     "name": "stderr",
     "output_type": "stream",
     "text": [
      "Epoch 7: 100%|██████████| 2908/2908 [00:36<00:00, 79.19it/s] \n"
     ]
    },
    {
     "name": "stdout",
     "output_type": "stream",
     "text": [
      "[Epoch 7] LogisticLoss: 0.514272\n"
     ]
    },
    {
     "name": "stderr",
     "output_type": "stream",
     "text": [
      "evaluating: 100%|██████████| 101/101 [00:00<00:00, 207.48it/s]\n"
     ]
    },
    {
     "name": "stdout",
     "output_type": "stream",
     "text": [
      "[Epoch 7] rmse: 0.441964, mae: 0.369305, auc: 0.722804, accuracy: 0.702062\n"
     ]
    },
    {
     "name": "stderr",
     "output_type": "stream",
     "text": [
      "Epoch 8: 100%|██████████| 2908/2908 [00:37<00:00, 77.25it/s] \n"
     ]
    },
    {
     "name": "stdout",
     "output_type": "stream",
     "text": [
      "[Epoch 8] LogisticLoss: 0.504118\n"
     ]
    },
    {
     "name": "stderr",
     "output_type": "stream",
     "text": [
      "evaluating: 100%|██████████| 101/101 [00:00<00:00, 194.23it/s]\n"
     ]
    },
    {
     "name": "stdout",
     "output_type": "stream",
     "text": [
      "[Epoch 8] rmse: 0.440357, mae: 0.365720, auc: 0.727814, accuracy: 0.704913\n"
     ]
    },
    {
     "name": "stderr",
     "output_type": "stream",
     "text": [
      "Epoch 9: 100%|██████████| 2908/2908 [00:35<00:00, 81.78it/s] \n"
     ]
    },
    {
     "name": "stdout",
     "output_type": "stream",
     "text": [
      "[Epoch 9] LogisticLoss: 0.495621\n"
     ]
    },
    {
     "name": "stderr",
     "output_type": "stream",
     "text": [
      "evaluating: 100%|██████████| 101/101 [00:00<00:00, 333.58it/s]\n"
     ]
    },
    {
     "name": "stdout",
     "output_type": "stream",
     "text": [
      "[Epoch 9] rmse: 0.439162, mae: 0.362500, auc: 0.731706, accuracy: 0.707842\n"
     ]
    },
    {
     "name": "stderr",
     "output_type": "stream",
     "text": [
      "Epoch 10: 100%|██████████| 2908/2908 [00:36<00:00, 80.52it/s] \n"
     ]
    },
    {
     "name": "stdout",
     "output_type": "stream",
     "text": [
      "[Epoch 10] LogisticLoss: 0.488379\n"
     ]
    },
    {
     "name": "stderr",
     "output_type": "stream",
     "text": [
      "evaluating: 100%|██████████| 101/101 [00:00<00:00, 171.46it/s]\n"
     ]
    },
    {
     "name": "stdout",
     "output_type": "stream",
     "text": [
      "[Epoch 10] rmse: 0.438275, mae: 0.359613, auc: 0.734773, accuracy: 0.709677\n"
     ]
    },
    {
     "name": "stderr",
     "output_type": "stream",
     "text": [
      "Epoch 11: 100%|██████████| 2908/2908 [00:39<00:00, 74.29it/s]\n"
     ]
    },
    {
     "name": "stdout",
     "output_type": "stream",
     "text": [
      "[Epoch 11] LogisticLoss: 0.482116\n"
     ]
    },
    {
     "name": "stderr",
     "output_type": "stream",
     "text": [
      "evaluating: 100%|██████████| 101/101 [00:00<00:00, 279.66it/s]\n"
     ]
    },
    {
     "name": "stdout",
     "output_type": "stream",
     "text": [
      "[Epoch 11] rmse: 0.437624, mae: 0.357024, auc: 0.737236, accuracy: 0.711708\n"
     ]
    },
    {
     "name": "stderr",
     "output_type": "stream",
     "text": [
      "Epoch 12: 100%|██████████| 2908/2908 [00:36<00:00, 78.67it/s] \n"
     ]
    },
    {
     "name": "stdout",
     "output_type": "stream",
     "text": [
      "[Epoch 12] LogisticLoss: 0.476634\n"
     ]
    },
    {
     "name": "stderr",
     "output_type": "stream",
     "text": [
      "evaluating: 100%|██████████| 101/101 [00:00<00:00, 199.33it/s]\n"
     ]
    },
    {
     "name": "stdout",
     "output_type": "stream",
     "text": [
      "[Epoch 12] rmse: 0.437154, mae: 0.354702, auc: 0.739228, accuracy: 0.713231\n"
     ]
    },
    {
     "name": "stderr",
     "output_type": "stream",
     "text": [
      "Epoch 13: 100%|██████████| 2908/2908 [00:36<00:00, 78.98it/s] \n"
     ]
    },
    {
     "name": "stdout",
     "output_type": "stream",
     "text": [
      "[Epoch 13] LogisticLoss: 0.471789\n"
     ]
    },
    {
     "name": "stderr",
     "output_type": "stream",
     "text": [
      "evaluating: 100%|██████████| 101/101 [00:00<00:00, 182.18it/s]\n"
     ]
    },
    {
     "name": "stdout",
     "output_type": "stream",
     "text": [
      "[Epoch 13] rmse: 0.436824, mae: 0.352620, auc: 0.740865, accuracy: 0.714208\n"
     ]
    },
    {
     "name": "stderr",
     "output_type": "stream",
     "text": [
      "Epoch 14: 100%|██████████| 2908/2908 [00:36<00:00, 79.57it/s]\n"
     ]
    },
    {
     "name": "stdout",
     "output_type": "stream",
     "text": [
      "[Epoch 14] LogisticLoss: 0.467471\n"
     ]
    },
    {
     "name": "stderr",
     "output_type": "stream",
     "text": [
      "evaluating: 100%|██████████| 101/101 [00:00<00:00, 312.74it/s]\n"
     ]
    },
    {
     "name": "stdout",
     "output_type": "stream",
     "text": [
      "[Epoch 14] rmse: 0.436603, mae: 0.350749, auc: 0.742229, accuracy: 0.714325\n"
     ]
    },
    {
     "name": "stderr",
     "output_type": "stream",
     "text": [
      "Epoch 15: 100%|██████████| 2908/2908 [00:34<00:00, 83.38it/s] \n"
     ]
    },
    {
     "name": "stdout",
     "output_type": "stream",
     "text": [
      "[Epoch 15] LogisticLoss: 0.463597\n"
     ]
    },
    {
     "name": "stderr",
     "output_type": "stream",
     "text": [
      "evaluating: 100%|██████████| 101/101 [00:00<00:00, 295.30it/s]\n"
     ]
    },
    {
     "name": "stdout",
     "output_type": "stream",
     "text": [
      "[Epoch 15] rmse: 0.436467, mae: 0.349065, auc: 0.743365, accuracy: 0.714793\n"
     ]
    },
    {
     "name": "stderr",
     "output_type": "stream",
     "text": [
      "Epoch 16: 100%|██████████| 2908/2908 [00:37<00:00, 78.42it/s] \n"
     ]
    },
    {
     "name": "stdout",
     "output_type": "stream",
     "text": [
      "[Epoch 16] LogisticLoss: 0.460102\n"
     ]
    },
    {
     "name": "stderr",
     "output_type": "stream",
     "text": [
      "evaluating: 100%|██████████| 101/101 [00:00<00:00, 157.57it/s]\n"
     ]
    },
    {
     "name": "stdout",
     "output_type": "stream",
     "text": [
      "[Epoch 16] rmse: 0.436399, mae: 0.347548, auc: 0.744319, accuracy: 0.715535\n"
     ]
    },
    {
     "name": "stderr",
     "output_type": "stream",
     "text": [
      "Epoch 17: 100%|██████████| 2908/2908 [00:37<00:00, 77.26it/s] \n"
     ]
    },
    {
     "name": "stdout",
     "output_type": "stream",
     "text": [
      "[Epoch 17] LogisticLoss: 0.456932\n"
     ]
    },
    {
     "name": "stderr",
     "output_type": "stream",
     "text": [
      "evaluating: 100%|██████████| 101/101 [00:00<00:00, 165.88it/s]\n"
     ]
    },
    {
     "name": "stdout",
     "output_type": "stream",
     "text": [
      "[Epoch 17] rmse: 0.436387, mae: 0.346180, auc: 0.745120, accuracy: 0.716238\n"
     ]
    },
    {
     "name": "stderr",
     "output_type": "stream",
     "text": [
      "Epoch 18: 100%|██████████| 2908/2908 [00:40<00:00, 70.99it/s]\n"
     ]
    },
    {
     "name": "stdout",
     "output_type": "stream",
     "text": [
      "[Epoch 18] LogisticLoss: 0.454046\n"
     ]
    },
    {
     "name": "stderr",
     "output_type": "stream",
     "text": [
      "evaluating: 100%|██████████| 101/101 [00:00<00:00, 277.03it/s]\n"
     ]
    },
    {
     "name": "stdout",
     "output_type": "stream",
     "text": [
      "[Epoch 18] rmse: 0.436419, mae: 0.344944, auc: 0.745800, accuracy: 0.716316\n"
     ]
    },
    {
     "name": "stderr",
     "output_type": "stream",
     "text": [
      "Epoch 19: 100%|██████████| 2908/2908 [00:40<00:00, 71.73it/s]\n"
     ]
    },
    {
     "name": "stdout",
     "output_type": "stream",
     "text": [
      "[Epoch 19] LogisticLoss: 0.451409\n"
     ]
    },
    {
     "name": "stderr",
     "output_type": "stream",
     "text": [
      "evaluating: 100%|██████████| 101/101 [00:00<00:00, 196.96it/s]\n",
      "INFO:root:save parameters to cirt_a0910.params\n",
      "INFO:root:load parameters from cirt_a0910.params\n"
     ]
    },
    {
     "name": "stdout",
     "output_type": "stream",
     "text": [
      "[Epoch 19] rmse: 0.436485, mae: 0.343824, auc: 0.746368, accuracy: 0.716551\n"
     ]
    },
    {
     "name": "stderr",
     "output_type": "stream",
     "text": [
      "evaluating: 100%|██████████| 218/218 [00:00<00:00, 239.07it/s]\n"
     ]
    },
    {
     "name": "stdout",
     "output_type": "stream",
     "text": [
      "rmse: 0.437926, mae: 0.346090, auc: 0.745606, accuracy: 0.715208\n"
     ]
    }
   ],
   "source": [
    "import sys\n",
    "sys.path.append(\"../../..\")\n",
    "\n",
    "import logging\n",
    "from EduCDM import CIRT\n",
    "import torch\n",
    "from torch.utils.data import TensorDataset, DataLoader\n",
    "import pandas as pd\n",
    "import random\n",
    "import numpy as np\n",
    "\n",
    "logging.getLogger().setLevel(logging.INFO)\n",
    "\n",
    "user_num = max(train_data['user_id'].unique())\n",
    "# print(user_num)\n",
    "cdm = CIRT(user_num + 1, 17747, a_range=1, zeta=0.3)\n",
    "\n",
    "cdm.train(train, valid, epoch=20, device=\"cuda\")\n",
    "cdm.save(\"cirt_a0910.params\")\n",
    "\n",
    "cdm.load(\"cirt_a0910.params\")\n",
    "rmse, mae, auc, accuracy = cdm.eval(test)\n",
    "print(\"rmse: %.6f, mae: %.6f, auc: %.6f, accuracy: %.6f\" % (rmse, mae, auc, accuracy))"
   ]
  },
  {
   "cell_type": "code",
   "execution_count": 7,
   "metadata": {},
   "outputs": [
    {
     "data": {
      "text/plain": [
       "(<torch.utils.data.dataloader.DataLoader at 0x7efcd72ce8c0>,\n",
       " <torch.utils.data.dataloader.DataLoader at 0x7efcd72cecb0>)"
      ]
     },
     "execution_count": 7,
     "metadata": {},
     "output_type": "execute_result"
    }
   ],
   "source": [
    "batch_size = 256\n",
    "def transform(x, y, z, batch_size, **params):\n",
    "    x = x.to_numpy()\n",
    "    y = y.to_numpy()\n",
    "    z = z.to_numpy()\n",
    "    dataset = TensorDataset(\n",
    "        torch.tensor(x, dtype=torch.int64),\n",
    "        torch.tensor(y, dtype=torch.int64),\n",
    "        torch.tensor(z, dtype=torch.float32)\n",
    "    )\n",
    "    return DataLoader(dataset, batch_size=batch_size, **params)\n",
    "\n",
    "\n",
    "test_data = pd.read_csv('../../../data/a0910/test.csv')\n",
    "user_records_count = pd.read_csv('../../../data/a0910/user_records_count.csv')\n",
    "test_data = test_data.merge(user_records_count, on='user_id', how='inner')\n",
    "\n",
    "test1_data = test_data[test_data['count'] < 200]\n",
    "test2_data = test_data[test_data['count'] >= 200]\n",
    "\n",
    "test1, test2 = [\n",
    "    transform(data[\"user_id\"], data[\"item_id\"], data[\"score\"], batch_size)\n",
    "    for data in [test1_data, test2_data]\n",
    "]\n",
    "test1, test2"
   ]
  },
  {
   "cell_type": "code",
   "execution_count": 8,
   "metadata": {},
   "outputs": [
    {
     "name": "stderr",
     "output_type": "stream",
     "text": [
      "INFO:root:load parameters from cirt_a0910.params\n",
      "evaluating: 100%|██████████| 104/104 [00:00<00:00, 288.09it/s]\n",
      "INFO:root:load parameters from cirt_a0910.params\n"
     ]
    },
    {
     "name": "stdout",
     "output_type": "stream",
     "text": [
      "rmse: 0.454218, mae: 0.368573, auc: 0.729730, accuracy: 0.692842\n"
     ]
    },
    {
     "name": "stderr",
     "output_type": "stream",
     "text": [
      "evaluating: 100%|██████████| 115/115 [00:00<00:00, 262.70it/s]"
     ]
    },
    {
     "name": "stdout",
     "output_type": "stream",
     "text": [
      "rmse: 0.422614, mae: 0.325706, auc: 0.757075, accuracy: 0.735485\n"
     ]
    },
    {
     "name": "stderr",
     "output_type": "stream",
     "text": [
      "\n"
     ]
    }
   ],
   "source": [
    "cdm.load(\"cirt_a0910.params\")\n",
    "rmse, mae, auc, accuracy = cdm.eval(test1)\n",
    "print(\"rmse: %.6f, mae: %.6f, auc: %.6f, accuracy: %.6f\" % (rmse, mae, auc, accuracy))\n",
    "\n",
    "cdm.load(\"cirt_a0910.params\")\n",
    "rmse, mae, auc, accuracy = cdm.eval(test2)\n",
    "print(\"rmse: %.6f, mae: %.6f, auc: %.6f, accuracy: %.6f\" % (rmse, mae, auc, accuracy))"
   ]
  }
 ],
 "metadata": {
  "kernelspec": {
   "display_name": "Python 3",
   "language": "python",
   "name": "python3"
  },
  "language_info": {
   "codemirror_mode": {
    "name": "ipython",
    "version": 3
   },
   "file_extension": ".py",
   "mimetype": "text/x-python",
   "name": "python",
   "nbconvert_exporter": "python",
   "pygments_lexer": "ipython3",
   "version": "3.9.20"
  }
 },
 "nbformat": 4,
 "nbformat_minor": 2
}
